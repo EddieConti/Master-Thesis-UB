{
  "nbformat": 4,
  "nbformat_minor": 0,
  "metadata": {
    "colab": {
      "provenance": []
    },
    "kernelspec": {
      "name": "python3",
      "display_name": "Python 3"
    },
    "language_info": {
      "name": "python"
    }
  },
  "cells": [
    {
      "cell_type": "markdown",
      "source": [
        "In this code we create functions to generate matrix with a specific structure. We take inspiration from paper \"Analyzing Multi-Head Self-Attention: Specialized Heads Do the Heavy Lifting, the Rest Can Be Pruned\" (https://arxiv.org/abs/1905.09418).\n"
      ],
      "metadata": {
        "id": "oy4Klr7YJ-07"
      }
    },
    {
      "cell_type": "code",
      "source": [
        "import numpy as np\n",
        "import scipy\n"
      ],
      "metadata": {
        "id": "dSUfBCH9KiLA"
      },
      "execution_count": 2,
      "outputs": []
    },
    {
      "cell_type": "code",
      "source": [
        "def creatediagonal(d): #d is the vector dimension of the matrix\n",
        "  vect=np.random.rand(d)\n",
        "  return (np.diag(vect))\n",
        "\n",
        "\n",
        "def createsparse(d,perc=0.1): #percentage of sparsity\n",
        "  sparse_matrix=np.random.rand(d[0], d[1])\n",
        "  random_mask = np.random.rand(d[0], d[1])\n",
        "  sparse_matrix[random_mask>perc]=0\n",
        "  return\n",
        "\n",
        "#here we create a matrix that for which we attend specific other input randomly.\n",
        "#For every column we have big (>0.5) elements and the others are zero.\n",
        "\n",
        "#TO BE COMPLETED.\n",
        "\n",
        "def structured(d,perc=0.1):\n",
        "  structured_matrix=np.zeros((d[0],d[1]))\n",
        "  for j in d[1]:\n",
        "    random_mask=np.random.rand(d[0]) #we create a mask for each column vector\n",
        "    random_matrix\n",
        "    structured_matrix[:,j]=\n",
        "\n",
        "\n",
        "  return structured_matrix\n",
        "\n",
        "#create a banded matrix\n",
        "\n",
        "def context_matrix(d,w): #here w stands for window. d[0]=d[1] in this case\n",
        "  context_matrix=np.zeros((d[0],d[1]))\n",
        "  for i in range(2*w):\n",
        "\n",
        "    np.fill_diagonal(context_matrix, np.random.rand(d[0]-(i-w)), i-w)\n",
        "  return context_matrix\n",
        "\n",
        "\n",
        "\n",
        "def addnoise(M,noise=0.1):\n",
        "  n=M.shape[0]\n",
        "  m=M.shape[1]\n",
        "  noise_matrix=np.random.randn(n,m)*M.max()*noise\n",
        "  M_with_noise=M+noise_matrix\n",
        "  M_with_noise[M_with_noise > 1] = 1\n",
        "  M_with_noise[M_with_noise < 0] = 0\n",
        "  return M_with_noise\n",
        "\n",
        "def random_matrix(d):\n",
        "  return np.random.rand(d[0],d[1])\n",
        "\n",
        "\n"
      ],
      "metadata": {
        "id": "kyxHzxtCKYbS"
      },
      "execution_count": 17,
      "outputs": []
    }
  ]
}