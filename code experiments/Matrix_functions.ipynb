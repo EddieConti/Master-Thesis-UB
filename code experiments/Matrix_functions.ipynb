{
  "nbformat": 4,
  "nbformat_minor": 0,
  "metadata": {
    "colab": {
      "provenance": []
    },
    "kernelspec": {
      "name": "python3",
      "display_name": "Python 3"
    },
    "language_info": {
      "name": "python"
    }
  },
  "cells": [
    {
      "cell_type": "markdown",
      "source": [
        "In this code we create functions to generate matrix with a specific structure. We take inspiration from paper \"Analyzing Multi-Head Self-Attention: Specialized Heads Do the Heavy Lifting, the Rest Can Be Pruned\" (https://arxiv.org/abs/1905.09418).\n"
      ],
      "metadata": {
        "id": "oy4Klr7YJ-07"
      }
    },
    {
      "cell_type": "code",
      "source": [
        "import numpy as np\n",
        "import scipy\n"
      ],
      "metadata": {
        "id": "dSUfBCH9KiLA"
      },
      "execution_count": 1,
      "outputs": []
    },
    {
      "cell_type": "code",
      "source": [
        "def creatediagonal(d): #d is the vector dimension of the matrix\n",
        "  vect=np.random.rand(d)\n",
        "  return (np.diag(vect))\n",
        "\n",
        "\n",
        "def createsparse(d,perc=0.1): #percentage of sparsity\n",
        "  sparse_matrix=np.random.rand(d[0], d[1])\n",
        "  random_mask = np.random.rand(d[0], d[1])\n",
        "  sparse_matrix[random_mask>perc]=0\n",
        "  return\n",
        "\n",
        "#here we create a matrix that for which we attend specific other input randomly.\n",
        "#For every column we have few big (>0.5) elements and the others are zero.\n",
        "\n",
        "def structured(d,perc=0.1,sup=0.9): #variable sup tells us how much non zero elements we want since we use rand that is a uniform distribution\n",
        "  structured_matrix = np.zeros(d)\n",
        "  for j in range(d[1]):  # Iterate over columns\n",
        "      random_mask = np.random.rand(d[0])  # Create a mask for each column vector\n",
        "      random_mask[random_mask < sup] = 0\n",
        "      random_mask[random_mask > sup] = np.random.rand(0.5,1,size=np.sum(random_mask >sup))\n",
        "      #Alternative line\n",
        "      #random_mask[random_mask > sup] - 0.4 * np.random.rand(np.sum(random_mask > sup)) #so that I have elements between 0.5 and 1\n",
        "      structured_matrix[:, j] = random_mask\n",
        "  return structured_matrix\n",
        "\n",
        "\n",
        "#create a banded matrix\n",
        "\n",
        "def context(d,w): #here w stands for window size.\n",
        "  context_matrix=np.zeros((d[0],d[1]))\n",
        "  for i in range(d[0]):\n",
        "    for j in range(max(0,i-w),min(i+w+1,d[1])):\n",
        "      context_matrix[i,j]=np.random.uniform(0.5, 1) #we can set other parameters\n",
        "  return context_matrix\n",
        "\n",
        "def addnoise(M,noise=0.1):\n",
        "  n=M.shape[0]\n",
        "  m=M.shape[1]\n",
        "  noise_matrix=np.random.randn(n,m)*M.max()*noise\n",
        "  M_with_noise=M+noise_matrix\n",
        "  M_with_noise[M_with_noise > 1] = 1\n",
        "  M_with_noise[M_with_noise < 0] = 0\n",
        "  return M_with_noise\n",
        "\n",
        "def add_sparsity(M, perc=0.1):\n",
        "  sparsity_mask = np.random.rand(*M.shape) < perc  #I create a boolean mask\n",
        "  M[sparsity_mask] = np.random.uniform(0.5, 1, size=np.count_nonzero(sparsity_mask))\n",
        "  return M\n",
        "\n",
        "def random_matrix(d):\n",
        "  return np.random.rand(d[0],d[1])\n",
        "\n",
        "\n"
      ],
      "metadata": {
        "id": "kyxHzxtCKYbS"
      },
      "execution_count": 78,
      "outputs": []
    },
    {
      "cell_type": "code",
      "source": [
        "A=context([8,8],2)\n",
        "np.set_printoptions(precision=2)\n",
        "display(A)"
      ],
      "metadata": {
        "colab": {
          "base_uri": "https://localhost:8080/",
          "height": 156
        },
        "id": "BgPHN0Elf8vt",
        "outputId": "baf6887c-a151-44ea-bc4d-30117df7edd3"
      },
      "execution_count": 81,
      "outputs": [
        {
          "output_type": "display_data",
          "data": {
            "text/plain": [
              "array([[0.95, 0.99, 0.56, 0.  , 0.  , 0.  , 0.  , 0.  ],\n",
              "       [0.69, 0.86, 0.78, 0.64, 0.  , 0.  , 0.  , 0.  ],\n",
              "       [0.88, 0.95, 0.9 , 0.63, 0.6 , 0.  , 0.  , 0.  ],\n",
              "       [0.  , 0.53, 0.79, 0.92, 0.56, 0.77, 0.  , 0.  ],\n",
              "       [0.  , 0.  , 0.85, 0.92, 0.89, 0.51, 0.74, 0.  ],\n",
              "       [0.  , 0.  , 0.  , 0.66, 0.66, 0.51, 0.71, 0.7 ],\n",
              "       [0.  , 0.  , 0.  , 0.  , 0.69, 0.81, 0.65, 0.82],\n",
              "       [0.  , 0.  , 0.  , 0.  , 0.  , 0.53, 0.53, 0.57]])"
            ]
          },
          "metadata": {}
        }
      ]
    },
    {
      "cell_type": "code",
      "source": [
        "B=add_sparsity(A)\n",
        "print(B)"
      ],
      "metadata": {
        "colab": {
          "base_uri": "https://localhost:8080/"
        },
        "id": "3VZKUUsytsJ8",
        "outputId": "f147f613-ef8c-461b-dd8f-45e8b5500a39"
      },
      "execution_count": 83,
      "outputs": [
        {
          "output_type": "stream",
          "name": "stdout",
          "text": [
            "[[0.95 0.99 0.95 0.55 0.86 0.   0.   0.  ]\n",
            " [0.69 0.86 0.78 0.64 0.   0.   0.   0.  ]\n",
            " [0.88 0.95 0.92 0.58 0.6  0.   0.   0.  ]\n",
            " [0.88 0.53 0.79 0.92 0.56 0.77 0.   0.  ]\n",
            " [0.   0.   0.85 0.69 0.75 0.51 0.74 0.73]\n",
            " [0.   0.   0.64 0.66 0.66 0.51 0.9  0.7 ]\n",
            " [0.   0.94 0.   0.   0.69 0.81 0.65 0.55]\n",
            " [0.   0.   0.   0.   0.   0.53 0.53 0.83]]\n"
          ]
        }
      ]
    },
    {
      "cell_type": "code",
      "source": [
        "C=addnoise(B)\n",
        "print(C)"
      ],
      "metadata": {
        "colab": {
          "base_uri": "https://localhost:8080/"
        },
        "id": "qjiAdeZqtvb1",
        "outputId": "38a8dfb7-5b01-4145-c106-bb827cb101a1"
      },
      "execution_count": 85,
      "outputs": [
        {
          "output_type": "stream",
          "name": "stdout",
          "text": [
            "[[0.94 0.82 0.89 0.63 0.93 0.08 0.   0.15]\n",
            " [0.52 0.73 0.75 0.64 0.   0.04 0.   0.2 ]\n",
            " [0.82 0.99 1.   0.65 0.57 0.02 0.   0.  ]\n",
            " [0.92 0.28 0.92 0.9  0.63 0.75 0.   0.05]\n",
            " [0.14 0.   1.   0.66 0.65 0.46 0.82 0.51]\n",
            " [0.02 0.   0.56 0.61 0.6  0.61 0.89 0.73]\n",
            " [0.   1.   0.   0.11 0.79 0.69 0.57 0.56]\n",
            " [0.   0.02 0.1  0.   0.   0.31 0.55 0.73]]\n"
          ]
        }
      ]
    },
    {
      "cell_type": "code",
      "source": [],
      "metadata": {
        "id": "kPYI5UEnuCH4"
      },
      "execution_count": null,
      "outputs": []
    }
  ]
}