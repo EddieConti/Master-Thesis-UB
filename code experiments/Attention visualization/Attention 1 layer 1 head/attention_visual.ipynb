{
  "cells": [
    {
      "cell_type": "code",
      "source": [
        "from google.colab import drive\n",
        "drive.mount('/content/drive')\n",
        "drive_folder = '/content/drive/MyDrive/Transformer/'\n",
        "%cd /content/drive/MyDrive/Transformer/\n"
      ],
      "metadata": {
        "colab": {
          "base_uri": "https://localhost:8080/"
        },
        "id": "oQCGmIUePTCV",
        "outputId": "efe7bb5a-ae19-4024-bd7b-a0cdac8789ff"
      },
      "execution_count": 2,
      "outputs": [
        {
          "output_type": "stream",
          "name": "stdout",
          "text": [
            "Mounted at /content/drive\n",
            "/content/drive/MyDrive/Transformer\n"
          ]
        }
      ]
    },
    {
      "cell_type": "code",
      "source": [
        "%%capture\n",
        "!pip install datasets\n",
        "!pip install tokenizers\n",
        "!pip install torchmetrics"
      ],
      "metadata": {
        "id": "XJESwecIPSmo"
      },
      "execution_count": 3,
      "outputs": []
    },
    {
      "cell_type": "code",
      "execution_count": 4,
      "metadata": {
        "id": "85IerD51O813"
      },
      "outputs": [],
      "source": [
        "import torch\n",
        "import torch.nn as nn\n",
        "from model import Transformer\n",
        "from config import get_config, get_weights_file_path\n",
        "from train import get_model, get_ds, greedy_decode\n",
        "import altair as alt # visualization for chart\n",
        "import pandas as pd\n",
        "import numpy as np\n",
        "import warnings\n",
        "warnings.filterwarnings(\"ignore\")"
      ]
    },
    {
      "cell_type": "code",
      "execution_count": 5,
      "metadata": {
        "colab": {
          "base_uri": "https://localhost:8080/"
        },
        "id": "hphFJa6BO81-",
        "outputId": "ea674cab-9609-4b29-cb87-e68b2fd2d147"
      },
      "outputs": [
        {
          "output_type": "stream",
          "name": "stdout",
          "text": [
            "Using device: cpu\n"
          ]
        }
      ],
      "source": [
        "# Define the device\n",
        "device = torch.device(\"cuda\" if torch.cuda.is_available() else \"cpu\")\n",
        "print(\"Using device:\", device)"
      ]
    },
    {
      "cell_type": "code",
      "execution_count": 8,
      "metadata": {
        "colab": {
          "base_uri": "https://localhost:8080/"
        },
        "id": "uWD48Eu3O81_",
        "outputId": "fe49cd0a-bfa2-4404-9366-36d2c5dd77b0"
      },
      "outputs": [
        {
          "output_type": "stream",
          "name": "stdout",
          "text": [
            "Max length of source sentence: 309\n",
            "Max length of target sentence: 274\n"
          ]
        },
        {
          "output_type": "execute_result",
          "data": {
            "text/plain": [
              "<All keys matched successfully>"
            ]
          },
          "metadata": {},
          "execution_count": 8
        }
      ],
      "source": [
        "config = get_config()\n",
        "config['model_folder'] = drive_folder + 'weights/'\n",
        "config['tokenizer_file'] = drive_folder + 'vocab/tokenizer_{0}.json'\n",
        "train_dataloader, val_dataloader, vocab_src, vocab_tgt = get_ds(config)\n",
        "model = get_model(config, vocab_src.get_vocab_size(), vocab_tgt.get_vocab_size()).to(device)\n",
        "\n",
        "# Load the pretrained weights\n",
        "model_filename = get_weights_file_path(config, f\"17\")\n",
        "state = torch.load(model_filename, map_location=torch.device('cpu'))\n",
        "model.load_state_dict(state['model_state_dict'])"
      ]
    },
    {
      "cell_type": "code",
      "execution_count": 9,
      "metadata": {
        "id": "cFpRvVUuO82A"
      },
      "outputs": [],
      "source": [
        "def load_next_batch():\n",
        "    # Load a sample batch from the validation set\n",
        "    batch = next(iter(val_dataloader))\n",
        "    encoder_input = batch[\"encoder_input\"].to(device)\n",
        "    encoder_mask = batch[\"encoder_mask\"].to(device)\n",
        "    decoder_input = batch[\"decoder_input\"].to(device)\n",
        "    decoder_mask = batch[\"decoder_mask\"].to(device)\n",
        "\n",
        "    encoder_input_tokens = [vocab_src.id_to_token(idx) for idx in encoder_input[0].cpu().numpy()]\n",
        "    decoder_input_tokens = [vocab_tgt.id_to_token(idx) for idx in decoder_input[0].cpu().numpy()]\n",
        "\n",
        "    # check that the batch size is 1\n",
        "    assert encoder_input.size(\n",
        "        0) == 1, \"Batch size must be 1 for validation\"\n",
        "\n",
        "    model_out = greedy_decode(\n",
        "        model, encoder_input, encoder_mask, vocab_src, vocab_tgt, config['seq_len'], device)\n",
        "\n",
        "    return batch, encoder_input_tokens, decoder_input_tokens"
      ]
    },
    {
      "cell_type": "code",
      "execution_count": 10,
      "metadata": {
        "id": "H36fx6fnO82B"
      },
      "outputs": [],
      "source": [
        "def mtx2df(m, max_row, max_col, row_tokens, col_tokens):\n",
        "    return pd.DataFrame(\n",
        "        [\n",
        "            (\n",
        "                r,\n",
        "                c,\n",
        "                float(m[r, c]),\n",
        "                \"%.3d %s\" % (r, row_tokens[r] if len(row_tokens) > r else \"<blank>\"),\n",
        "                \"%.3d %s\" % (c, col_tokens[c] if len(col_tokens) > c else \"<blank>\"),\n",
        "            )\n",
        "            for r in range(m.shape[0])\n",
        "            for c in range(m.shape[1])\n",
        "            if r < max_row and c < max_col\n",
        "        ],\n",
        "        columns=[\"row\", \"column\", \"value\", \"row_token\", \"col_token\"],\n",
        "    )\n",
        "\n",
        "def get_attn_map(attn_type: str, layer: int, head: int): # based on which attention we want from which layer and head.\n",
        "    if attn_type == \"encoder\":\n",
        "        attn = model.encoder.layers[layer].self_attention_block.attention_scores\n",
        "    elif attn_type == \"decoder\":\n",
        "        attn = model.decoder.layers[layer].self_attention_block.attention_scores\n",
        "    elif attn_type == \"encoder-decoder\": # Cross attention\n",
        "        attn = model.decoder.layers[layer].cross_attention_block.attention_scores\n",
        "    return attn[0, head].data # this is a matrix\n",
        "\n",
        "def attn_map(attn_type, layer, head, row_tokens, col_tokens, max_sentence_len):\n",
        "    df = mtx2df(\n",
        "        get_attn_map(attn_type, layer, head),\n",
        "        max_sentence_len,\n",
        "        max_sentence_len,\n",
        "        row_tokens,\n",
        "        col_tokens,\n",
        "    )\n",
        "    return (\n",
        "        alt.Chart(data=df)\n",
        "        .mark_rect()\n",
        "        .encode(\n",
        "            x=alt.X(\"col_token\", axis=alt.Axis(title=\"\")),\n",
        "            y=alt.Y(\"row_token\", axis=alt.Axis(title=\"\")),\n",
        "            color=\"value\",\n",
        "            tooltip=[\"row\", \"column\", \"value\", \"row_token\", \"col_token\"],\n",
        "        )\n",
        "        #.title(f\"Layer {layer} Head {head}\")\n",
        "        .properties(height=400, width=400, title=f\"Layer {layer} Head {head}\")\n",
        "        .interactive()\n",
        "    )\n",
        "\n",
        "def get_all_attention_maps(attn_type: str, layers: list[int], heads: list[int], row_tokens: list, col_tokens, max_sentence_len: int):\n",
        "    charts = []\n",
        "    for layer in layers:\n",
        "        rowCharts = []\n",
        "        for head in heads:\n",
        "            rowCharts.append(attn_map(attn_type, layer, head, row_tokens, col_tokens, max_sentence_len))\n",
        "        charts.append(alt.hconcat(*rowCharts))\n",
        "    return alt.vconcat(*charts)"
      ]
    },
    {
      "cell_type": "code",
      "execution_count": 11,
      "metadata": {
        "colab": {
          "base_uri": "https://localhost:8080/"
        },
        "id": "SOG8e1p0O82B",
        "outputId": "d08a0e89-1626-4ac1-e625-93a45368aaca"
      },
      "outputs": [
        {
          "output_type": "stream",
          "name": "stdout",
          "text": [
            "Source: 'Why, I don't know! We have had tea once to-day,' said he, evidently pleased to accept the invitation. 'Well, just for company!'\n",
            "Target: — L’ho già bevuto oggi — disse il vecchio, accettando con evidente piacere la proposta. — Ma se è per farvi compagnia...\n"
          ]
        }
      ],
      "source": [
        "batch, encoder_input_tokens, decoder_input_tokens = load_next_batch()\n",
        "print(f'Source: {batch[\"src_text\"][0]}')\n",
        "print(f'Target: {batch[\"tgt_text\"][0]}')\n",
        "sentence_len = encoder_input_tokens.index(\"[PAD]\") # get the number of word before padding"
      ]
    },
    {
      "cell_type": "code",
      "execution_count": 12,
      "metadata": {
        "colab": {
          "base_uri": "https://localhost:8080/",
          "height": 505
        },
        "id": "kjmTsv1DO82C",
        "outputId": "3495b06a-bbd0-489a-af46-78cbce4d1e36"
      },
      "outputs": [
        {
          "output_type": "execute_result",
          "data": {
            "text/html": [
              "\n",
              "<div id=\"altair-viz-8c33dce1933a42f58c5a6f20c59e1560\"></div>\n",
              "<script type=\"text/javascript\">\n",
              "  var VEGA_DEBUG = (typeof VEGA_DEBUG == \"undefined\") ? {} : VEGA_DEBUG;\n",
              "  (function(spec, embedOpt){\n",
              "    let outputDiv = document.currentScript.previousElementSibling;\n",
              "    if (outputDiv.id !== \"altair-viz-8c33dce1933a42f58c5a6f20c59e1560\") {\n",
              "      outputDiv = document.getElementById(\"altair-viz-8c33dce1933a42f58c5a6f20c59e1560\");\n",
              "    }\n",
              "    const paths = {\n",
              "      \"vega\": \"https://cdn.jsdelivr.net/npm//vega@5?noext\",\n",
              "      \"vega-lib\": \"https://cdn.jsdelivr.net/npm//vega-lib?noext\",\n",
              "      \"vega-lite\": \"https://cdn.jsdelivr.net/npm//vega-lite@4.17.0?noext\",\n",
              "      \"vega-embed\": \"https://cdn.jsdelivr.net/npm//vega-embed@6?noext\",\n",
              "    };\n",
              "\n",
              "    function maybeLoadScript(lib, version) {\n",
              "      var key = `${lib.replace(\"-\", \"\")}_version`;\n",
              "      return (VEGA_DEBUG[key] == version) ?\n",
              "        Promise.resolve(paths[lib]) :\n",
              "        new Promise(function(resolve, reject) {\n",
              "          var s = document.createElement('script');\n",
              "          document.getElementsByTagName(\"head\")[0].appendChild(s);\n",
              "          s.async = true;\n",
              "          s.onload = () => {\n",
              "            VEGA_DEBUG[key] = version;\n",
              "            return resolve(paths[lib]);\n",
              "          };\n",
              "          s.onerror = () => reject(`Error loading script: ${paths[lib]}`);\n",
              "          s.src = paths[lib];\n",
              "        });\n",
              "    }\n",
              "\n",
              "    function showError(err) {\n",
              "      outputDiv.innerHTML = `<div class=\"error\" style=\"color:red;\">${err}</div>`;\n",
              "      throw err;\n",
              "    }\n",
              "\n",
              "    function displayChart(vegaEmbed) {\n",
              "      vegaEmbed(outputDiv, spec, embedOpt)\n",
              "        .catch(err => showError(`Javascript Error: ${err.message}<br>This usually means there's a typo in your chart specification. See the javascript console for the full traceback.`));\n",
              "    }\n",
              "\n",
              "    if(typeof define === \"function\" && define.amd) {\n",
              "      requirejs.config({paths});\n",
              "      require([\"vega-embed\"], displayChart, err => showError(`Error loading script: ${err.message}`));\n",
              "    } else {\n",
              "      maybeLoadScript(\"vega\", \"5\")\n",
              "        .then(() => maybeLoadScript(\"vega-lite\", \"4.17.0\"))\n",
              "        .then(() => maybeLoadScript(\"vega-embed\", \"6\"))\n",
              "        .catch(showError)\n",
              "        .then(() => displayChart(vegaEmbed));\n",
              "    }\n",
              "  })({\"config\": {\"view\": {\"continuousWidth\": 400, \"continuousHeight\": 300}}, \"vconcat\": [{\"hconcat\": [{\"mark\": \"rect\", \"encoding\": {\"color\": {\"field\": \"value\", \"type\": \"quantitative\"}, \"tooltip\": [{\"field\": \"row\", \"type\": \"quantitative\"}, {\"field\": \"column\", \"type\": \"quantitative\"}, {\"field\": \"value\", \"type\": \"quantitative\"}, {\"field\": \"row_token\", \"type\": \"nominal\"}, {\"field\": \"col_token\", \"type\": \"nominal\"}], \"x\": {\"axis\": {\"title\": \"\"}, \"field\": \"col_token\", \"type\": \"nominal\"}, \"y\": {\"axis\": {\"title\": \"\"}, \"field\": \"row_token\", \"type\": \"nominal\"}}, \"height\": 400, \"selection\": {\"selector001\": {\"type\": \"interval\", \"bind\": \"scales\", \"encodings\": [\"x\", \"y\"]}}, \"title\": \"Layer 0 Head 0\", \"width\": 400}]}], \"data\": {\"name\": \"data-8c8fa1ce7da2c5a0d35c329e898bb2b2\"}, \"$schema\": \"https://vega.github.io/schema/vega-lite/v4.17.0.json\", \"datasets\": {\"data-8c8fa1ce7da2c5a0d35c329e898bb2b2\": [{\"row\": 0, \"column\": 0, \"value\": 0.010733920149505138, \"row_token\": \"000 [SOS]\", \"col_token\": \"000 [SOS]\"}, {\"row\": 0, \"column\": 1, \"value\": 0.12175920605659485, \"row_token\": \"000 [SOS]\", \"col_token\": \"001 '\"}, {\"row\": 0, \"column\": 2, \"value\": 0.2956944704055786, \"row_token\": \"000 [SOS]\", \"col_token\": \"002 Why\"}, {\"row\": 0, \"column\": 3, \"value\": 0.0, \"row_token\": \"000 [SOS]\", \"col_token\": \"003 ,\"}, {\"row\": 0, \"column\": 4, \"value\": 0.0, \"row_token\": \"000 [SOS]\", \"col_token\": \"004 I\"}, {\"row\": 0, \"column\": 5, \"value\": 0.026967911049723625, \"row_token\": \"000 [SOS]\", \"col_token\": \"005 don\"}, {\"row\": 0, \"column\": 6, \"value\": 0.009287416003644466, \"row_token\": \"000 [SOS]\", \"col_token\": \"006 '\"}, {\"row\": 0, \"column\": 7, \"value\": 0.047700606286525726, \"row_token\": \"000 [SOS]\", \"col_token\": \"007 t\"}, {\"row\": 0, \"column\": 8, \"value\": 0.03676963597536087, \"row_token\": \"000 [SOS]\", \"col_token\": \"008 know\"}, {\"row\": 0, \"column\": 9, \"value\": 0.05644291266798973, \"row_token\": \"000 [SOS]\", \"col_token\": \"009 !\"}, {\"row\": 0, \"column\": 10, \"value\": 0.018308479338884354, \"row_token\": \"000 [SOS]\", \"col_token\": \"010 We\"}, {\"row\": 0, \"column\": 11, \"value\": 0.013719815760850906, \"row_token\": \"000 [SOS]\", \"col_token\": \"011 have\"}, {\"row\": 0, \"column\": 12, \"value\": 0.013699788600206375, \"row_token\": \"000 [SOS]\", \"col_token\": \"012 had\"}, {\"row\": 0, \"column\": 13, \"value\": 0.09129050374031067, \"row_token\": \"000 [SOS]\", \"col_token\": \"013 tea\"}, {\"row\": 0, \"column\": 14, \"value\": 0.06522747129201889, \"row_token\": \"000 [SOS]\", \"col_token\": \"014 once\"}, {\"row\": 0, \"column\": 15, \"value\": 0.0059751952067017555, \"row_token\": \"000 [SOS]\", \"col_token\": \"015 to\"}, {\"row\": 0, \"column\": 16, \"value\": 0.0028643186669796705, \"row_token\": \"000 [SOS]\", \"col_token\": \"016 -\"}, {\"row\": 0, \"column\": 17, \"value\": 0.07059655338525772, \"row_token\": \"000 [SOS]\", \"col_token\": \"017 day\"}, {\"row\": 0, \"column\": 18, \"value\": 0.015329527668654919, \"row_token\": \"000 [SOS]\", \"col_token\": \"018 ,'\"}, {\"row\": 0, \"column\": 19, \"value\": 0.0, \"row_token\": \"000 [SOS]\", \"col_token\": \"019 said\"}, {\"row\": 1, \"column\": 0, \"value\": 0.013806130737066269, \"row_token\": \"001 '\", \"col_token\": \"000 [SOS]\"}, {\"row\": 1, \"column\": 1, \"value\": 0.010254926979541779, \"row_token\": \"001 '\", \"col_token\": \"001 '\"}, {\"row\": 1, \"column\": 2, \"value\": 0.16172268986701965, \"row_token\": \"001 '\", \"col_token\": \"002 Why\"}, {\"row\": 1, \"column\": 3, \"value\": 0.011768602766096592, \"row_token\": \"001 '\", \"col_token\": \"003 ,\"}, {\"row\": 1, \"column\": 4, \"value\": 0.020329851657152176, \"row_token\": \"001 '\", \"col_token\": \"004 I\"}, {\"row\": 1, \"column\": 5, \"value\": 0.0, \"row_token\": \"001 '\", \"col_token\": \"005 don\"}, {\"row\": 1, \"column\": 6, \"value\": 0.0025244939606636763, \"row_token\": \"001 '\", \"col_token\": \"006 '\"}, {\"row\": 1, \"column\": 7, \"value\": 0.0, \"row_token\": \"001 '\", \"col_token\": \"007 t\"}, {\"row\": 1, \"column\": 8, \"value\": 0.0505981519818306, \"row_token\": \"001 '\", \"col_token\": \"008 know\"}, {\"row\": 1, \"column\": 9, \"value\": 0.0, \"row_token\": \"001 '\", \"col_token\": \"009 !\"}, {\"row\": 1, \"column\": 10, \"value\": 0.011688468977808952, \"row_token\": \"001 '\", \"col_token\": \"010 We\"}, {\"row\": 1, \"column\": 11, \"value\": 0.012072175741195679, \"row_token\": \"001 '\", \"col_token\": \"011 have\"}, {\"row\": 1, \"column\": 12, \"value\": 0.0, \"row_token\": \"001 '\", \"col_token\": \"012 had\"}, {\"row\": 1, \"column\": 13, \"value\": 0.14938464760780334, \"row_token\": \"001 '\", \"col_token\": \"013 tea\"}, {\"row\": 1, \"column\": 14, \"value\": 0.0, \"row_token\": \"001 '\", \"col_token\": \"014 once\"}, {\"row\": 1, \"column\": 15, \"value\": 0.01277852337807417, \"row_token\": \"001 '\", \"col_token\": \"015 to\"}, {\"row\": 1, \"column\": 16, \"value\": 0.0032649445347487926, \"row_token\": \"001 '\", \"col_token\": \"016 -\"}, {\"row\": 1, \"column\": 17, \"value\": 0.0, \"row_token\": \"001 '\", \"col_token\": \"017 day\"}, {\"row\": 1, \"column\": 18, \"value\": 0.047862458974123, \"row_token\": \"001 '\", \"col_token\": \"018 ,'\"}, {\"row\": 1, \"column\": 19, \"value\": 0.04592891037464142, \"row_token\": \"001 '\", \"col_token\": \"019 said\"}, {\"row\": 2, \"column\": 0, \"value\": 0.008225623518228531, \"row_token\": \"002 Why\", \"col_token\": \"000 [SOS]\"}, {\"row\": 2, \"column\": 1, \"value\": 0.11685505509376526, \"row_token\": \"002 Why\", \"col_token\": \"001 '\"}, {\"row\": 2, \"column\": 2, \"value\": 0.07527793943881989, \"row_token\": \"002 Why\", \"col_token\": \"002 Why\"}, {\"row\": 2, \"column\": 3, \"value\": 0.1294887363910675, \"row_token\": \"002 Why\", \"col_token\": \"003 ,\"}, {\"row\": 2, \"column\": 4, \"value\": 0.0782989114522934, \"row_token\": \"002 Why\", \"col_token\": \"004 I\"}, {\"row\": 2, \"column\": 5, \"value\": 0.024702448397874832, \"row_token\": \"002 Why\", \"col_token\": \"005 don\"}, {\"row\": 2, \"column\": 6, \"value\": 0.02731865458190441, \"row_token\": \"002 Why\", \"col_token\": \"006 '\"}, {\"row\": 2, \"column\": 7, \"value\": 0.03931973874568939, \"row_token\": \"002 Why\", \"col_token\": \"007 t\"}, {\"row\": 2, \"column\": 8, \"value\": 0.10163009911775589, \"row_token\": \"002 Why\", \"col_token\": \"008 know\"}, {\"row\": 2, \"column\": 9, \"value\": 0.02545623853802681, \"row_token\": \"002 Why\", \"col_token\": \"009 !\"}, {\"row\": 2, \"column\": 10, \"value\": 0.013051686808466911, \"row_token\": \"002 Why\", \"col_token\": \"010 We\"}, {\"row\": 2, \"column\": 11, \"value\": 0.0071569825522601604, \"row_token\": \"002 Why\", \"col_token\": \"011 have\"}, {\"row\": 2, \"column\": 12, \"value\": 0.002997847506776452, \"row_token\": \"002 Why\", \"col_token\": \"012 had\"}, {\"row\": 2, \"column\": 13, \"value\": 0.009892255999147892, \"row_token\": \"002 Why\", \"col_token\": \"013 tea\"}, {\"row\": 2, \"column\": 14, \"value\": 0.02575722709298134, \"row_token\": \"002 Why\", \"col_token\": \"014 once\"}, {\"row\": 2, \"column\": 15, \"value\": 0.005459449719637632, \"row_token\": \"002 Why\", \"col_token\": \"015 to\"}, {\"row\": 2, \"column\": 16, \"value\": 0.007440280634909868, \"row_token\": \"002 Why\", \"col_token\": \"016 -\"}, {\"row\": 2, \"column\": 17, \"value\": 0.0, \"row_token\": \"002 Why\", \"col_token\": \"017 day\"}, {\"row\": 2, \"column\": 18, \"value\": 0.023613622412085533, \"row_token\": \"002 Why\", \"col_token\": \"018 ,'\"}, {\"row\": 2, \"column\": 19, \"value\": 0.016974521800875664, \"row_token\": \"002 Why\", \"col_token\": \"019 said\"}, {\"row\": 3, \"column\": 0, \"value\": 0.00918629765510559, \"row_token\": \"003 ,\", \"col_token\": \"000 [SOS]\"}, {\"row\": 3, \"column\": 1, \"value\": 0.0, \"row_token\": \"003 ,\", \"col_token\": \"001 '\"}, {\"row\": 3, \"column\": 2, \"value\": 0.21297971904277802, \"row_token\": \"003 ,\", \"col_token\": \"002 Why\"}, {\"row\": 3, \"column\": 3, \"value\": 0.03905324637889862, \"row_token\": \"003 ,\", \"col_token\": \"003 ,\"}, {\"row\": 3, \"column\": 4, \"value\": 0.18315182626247406, \"row_token\": \"003 ,\", \"col_token\": \"004 I\"}, {\"row\": 3, \"column\": 5, \"value\": 0.10265948623418808, \"row_token\": \"003 ,\", \"col_token\": \"005 don\"}, {\"row\": 3, \"column\": 6, \"value\": 0.027338968589901924, \"row_token\": \"003 ,\", \"col_token\": \"006 '\"}, {\"row\": 3, \"column\": 7, \"value\": 0.044381123036146164, \"row_token\": \"003 ,\", \"col_token\": \"007 t\"}, {\"row\": 3, \"column\": 8, \"value\": 0.07722778618335724, \"row_token\": \"003 ,\", \"col_token\": \"008 know\"}, {\"row\": 3, \"column\": 9, \"value\": 0.03771304339170456, \"row_token\": \"003 ,\", \"col_token\": \"009 !\"}, {\"row\": 3, \"column\": 10, \"value\": 0.0, \"row_token\": \"003 ,\", \"col_token\": \"010 We\"}, {\"row\": 3, \"column\": 11, \"value\": 0.008025425486266613, \"row_token\": \"003 ,\", \"col_token\": \"011 have\"}, {\"row\": 3, \"column\": 12, \"value\": 0.0038190330378711224, \"row_token\": \"003 ,\", \"col_token\": \"012 had\"}, {\"row\": 3, \"column\": 13, \"value\": 0.04050377383828163, \"row_token\": \"003 ,\", \"col_token\": \"013 tea\"}, {\"row\": 3, \"column\": 14, \"value\": 0.04227980598807335, \"row_token\": \"003 ,\", \"col_token\": \"014 once\"}, {\"row\": 3, \"column\": 15, \"value\": 0.0017443753313273191, \"row_token\": \"003 ,\", \"col_token\": \"015 to\"}, {\"row\": 3, \"column\": 16, \"value\": 0.002808312186971307, \"row_token\": \"003 ,\", \"col_token\": \"016 -\"}, {\"row\": 3, \"column\": 17, \"value\": 0.015209444798529148, \"row_token\": \"003 ,\", \"col_token\": \"017 day\"}, {\"row\": 3, \"column\": 18, \"value\": 0.006800220347940922, \"row_token\": \"003 ,\", \"col_token\": \"018 ,'\"}, {\"row\": 3, \"column\": 19, \"value\": 0.0027907434850931168, \"row_token\": \"003 ,\", \"col_token\": \"019 said\"}, {\"row\": 4, \"column\": 0, \"value\": 0.015312327072024345, \"row_token\": \"004 I\", \"col_token\": \"000 [SOS]\"}, {\"row\": 4, \"column\": 1, \"value\": 0.018009858205914497, \"row_token\": \"004 I\", \"col_token\": \"001 '\"}, {\"row\": 4, \"column\": 2, \"value\": 0.1115579903125763, \"row_token\": \"004 I\", \"col_token\": \"002 Why\"}, {\"row\": 4, \"column\": 3, \"value\": 0.20614060759544373, \"row_token\": \"004 I\", \"col_token\": \"003 ,\"}, {\"row\": 4, \"column\": 4, \"value\": 0.0, \"row_token\": \"004 I\", \"col_token\": \"004 I\"}, {\"row\": 4, \"column\": 5, \"value\": 0.12373217940330505, \"row_token\": \"004 I\", \"col_token\": \"005 don\"}, {\"row\": 4, \"column\": 6, \"value\": 0.018640711903572083, \"row_token\": \"004 I\", \"col_token\": \"006 '\"}, {\"row\": 4, \"column\": 7, \"value\": 0.03198312595486641, \"row_token\": \"004 I\", \"col_token\": \"007 t\"}, {\"row\": 4, \"column\": 8, \"value\": 0.059010811150074005, \"row_token\": \"004 I\", \"col_token\": \"008 know\"}, {\"row\": 4, \"column\": 9, \"value\": 0.028976377099752426, \"row_token\": \"004 I\", \"col_token\": \"009 !\"}, {\"row\": 4, \"column\": 10, \"value\": 0.031089846044778824, \"row_token\": \"004 I\", \"col_token\": \"010 We\"}, {\"row\": 4, \"column\": 11, \"value\": 0.014929101802408695, \"row_token\": \"004 I\", \"col_token\": \"011 have\"}, {\"row\": 4, \"column\": 12, \"value\": 0.021374929696321487, \"row_token\": \"004 I\", \"col_token\": \"012 had\"}, {\"row\": 4, \"column\": 13, \"value\": 0.0, \"row_token\": \"004 I\", \"col_token\": \"013 tea\"}, {\"row\": 4, \"column\": 14, \"value\": 0.01451651006937027, \"row_token\": \"004 I\", \"col_token\": \"014 once\"}, {\"row\": 4, \"column\": 15, \"value\": 0.0021397527307271957, \"row_token\": \"004 I\", \"col_token\": \"015 to\"}, {\"row\": 4, \"column\": 16, \"value\": 0.002431002678349614, \"row_token\": \"004 I\", \"col_token\": \"016 -\"}, {\"row\": 4, \"column\": 17, \"value\": 0.009816637262701988, \"row_token\": \"004 I\", \"col_token\": \"017 day\"}, {\"row\": 4, \"column\": 18, \"value\": 0.015438558533787727, \"row_token\": \"004 I\", \"col_token\": \"018 ,'\"}, {\"row\": 4, \"column\": 19, \"value\": 0.008345494978129864, \"row_token\": \"004 I\", \"col_token\": \"019 said\"}, {\"row\": 5, \"column\": 0, \"value\": 0.007964622229337692, \"row_token\": \"005 don\", \"col_token\": \"000 [SOS]\"}, {\"row\": 5, \"column\": 1, \"value\": 0.0029057899955660105, \"row_token\": \"005 don\", \"col_token\": \"001 '\"}, {\"row\": 5, \"column\": 2, \"value\": 0.12454373389482498, \"row_token\": \"005 don\", \"col_token\": \"002 Why\"}, {\"row\": 5, \"column\": 3, \"value\": 0.0, \"row_token\": \"005 don\", \"col_token\": \"003 ,\"}, {\"row\": 5, \"column\": 4, \"value\": 0.1127096563577652, \"row_token\": \"005 don\", \"col_token\": \"004 I\"}, {\"row\": 5, \"column\": 5, \"value\": 0.02110734023153782, \"row_token\": \"005 don\", \"col_token\": \"005 don\"}, {\"row\": 5, \"column\": 6, \"value\": 0.04305807501077652, \"row_token\": \"005 don\", \"col_token\": \"006 '\"}, {\"row\": 5, \"column\": 7, \"value\": 0.023714138194918633, \"row_token\": \"005 don\", \"col_token\": \"007 t\"}, {\"row\": 5, \"column\": 8, \"value\": 0.031161459162831306, \"row_token\": \"005 don\", \"col_token\": \"008 know\"}, {\"row\": 5, \"column\": 9, \"value\": 0.048443205654621124, \"row_token\": \"005 don\", \"col_token\": \"009 !\"}, {\"row\": 5, \"column\": 10, \"value\": 0.0, \"row_token\": \"005 don\", \"col_token\": \"010 We\"}, {\"row\": 5, \"column\": 11, \"value\": 0.06459750235080719, \"row_token\": \"005 don\", \"col_token\": \"011 have\"}, {\"row\": 5, \"column\": 12, \"value\": 0.02724502608180046, \"row_token\": \"005 don\", \"col_token\": \"012 had\"}, {\"row\": 5, \"column\": 13, \"value\": 0.029807759448885918, \"row_token\": \"005 don\", \"col_token\": \"013 tea\"}, {\"row\": 5, \"column\": 14, \"value\": 0.027417916804552078, \"row_token\": \"005 don\", \"col_token\": \"014 once\"}, {\"row\": 5, \"column\": 15, \"value\": 0.005092734005302191, \"row_token\": \"005 don\", \"col_token\": \"015 to\"}, {\"row\": 5, \"column\": 16, \"value\": 0.009567567147314548, \"row_token\": \"005 don\", \"col_token\": \"016 -\"}, {\"row\": 5, \"column\": 17, \"value\": 0.0, \"row_token\": \"005 don\", \"col_token\": \"017 day\"}, {\"row\": 5, \"column\": 18, \"value\": 0.04400545731186867, \"row_token\": \"005 don\", \"col_token\": \"018 ,'\"}, {\"row\": 5, \"column\": 19, \"value\": 0.014752484858036041, \"row_token\": \"005 don\", \"col_token\": \"019 said\"}, {\"row\": 6, \"column\": 0, \"value\": 0.014553621411323547, \"row_token\": \"006 '\", \"col_token\": \"000 [SOS]\"}, {\"row\": 6, \"column\": 1, \"value\": 0.0007176880608312786, \"row_token\": \"006 '\", \"col_token\": \"001 '\"}, {\"row\": 6, \"column\": 2, \"value\": 0.015405427664518356, \"row_token\": \"006 '\", \"col_token\": \"002 Why\"}, {\"row\": 6, \"column\": 3, \"value\": 0.009096055291593075, \"row_token\": \"006 '\", \"col_token\": \"003 ,\"}, {\"row\": 6, \"column\": 4, \"value\": 0.08675660192966461, \"row_token\": \"006 '\", \"col_token\": \"004 I\"}, {\"row\": 6, \"column\": 5, \"value\": 0.29874157905578613, \"row_token\": \"006 '\", \"col_token\": \"005 don\"}, {\"row\": 6, \"column\": 6, \"value\": 0.014634264633059502, \"row_token\": \"006 '\", \"col_token\": \"006 '\"}, {\"row\": 6, \"column\": 7, \"value\": 0.07725400477647781, \"row_token\": \"006 '\", \"col_token\": \"007 t\"}, {\"row\": 6, \"column\": 8, \"value\": 0.050782546401023865, \"row_token\": \"006 '\", \"col_token\": \"008 know\"}, {\"row\": 6, \"column\": 9, \"value\": 0.062628835439682, \"row_token\": \"006 '\", \"col_token\": \"009 !\"}, {\"row\": 6, \"column\": 10, \"value\": 0.026687774807214737, \"row_token\": \"006 '\", \"col_token\": \"010 We\"}, {\"row\": 6, \"column\": 11, \"value\": 0.010544977150857449, \"row_token\": \"006 '\", \"col_token\": \"011 have\"}, {\"row\": 6, \"column\": 12, \"value\": 0.0383744090795517, \"row_token\": \"006 '\", \"col_token\": \"012 had\"}, {\"row\": 6, \"column\": 13, \"value\": 0.09816402196884155, \"row_token\": \"006 '\", \"col_token\": \"013 tea\"}, {\"row\": 6, \"column\": 14, \"value\": 0.008781700395047665, \"row_token\": \"006 '\", \"col_token\": \"014 once\"}, {\"row\": 6, \"column\": 15, \"value\": 0.004607556853443384, \"row_token\": \"006 '\", \"col_token\": \"015 to\"}, {\"row\": 6, \"column\": 16, \"value\": 0.002293093828484416, \"row_token\": \"006 '\", \"col_token\": \"016 -\"}, {\"row\": 6, \"column\": 17, \"value\": 0.01248681265860796, \"row_token\": \"006 '\", \"col_token\": \"017 day\"}, {\"row\": 6, \"column\": 18, \"value\": 0.014719340950250626, \"row_token\": \"006 '\", \"col_token\": \"018 ,'\"}, {\"row\": 6, \"column\": 19, \"value\": 0.02389320358633995, \"row_token\": \"006 '\", \"col_token\": \"019 said\"}, {\"row\": 7, \"column\": 0, \"value\": 0.004472860135138035, \"row_token\": \"007 t\", \"col_token\": \"000 [SOS]\"}, {\"row\": 7, \"column\": 1, \"value\": 0.00534540880471468, \"row_token\": \"007 t\", \"col_token\": \"001 '\"}, {\"row\": 7, \"column\": 2, \"value\": 0.08904246985912323, \"row_token\": \"007 t\", \"col_token\": \"002 Why\"}, {\"row\": 7, \"column\": 3, \"value\": 0.05935950204730034, \"row_token\": \"007 t\", \"col_token\": \"003 ,\"}, {\"row\": 7, \"column\": 4, \"value\": 0.05957498773932457, \"row_token\": \"007 t\", \"col_token\": \"004 I\"}, {\"row\": 7, \"column\": 5, \"value\": 0.18130509555339813, \"row_token\": \"007 t\", \"col_token\": \"005 don\"}, {\"row\": 7, \"column\": 6, \"value\": 0.08542481064796448, \"row_token\": \"007 t\", \"col_token\": \"006 '\"}, {\"row\": 7, \"column\": 7, \"value\": 0.04426107183098793, \"row_token\": \"007 t\", \"col_token\": \"007 t\"}, {\"row\": 7, \"column\": 8, \"value\": 0.08569832146167755, \"row_token\": \"007 t\", \"col_token\": \"008 know\"}, {\"row\": 7, \"column\": 9, \"value\": 0.10464321076869965, \"row_token\": \"007 t\", \"col_token\": \"009 !\"}, {\"row\": 7, \"column\": 10, \"value\": 0.011063793674111366, \"row_token\": \"007 t\", \"col_token\": \"010 We\"}, {\"row\": 7, \"column\": 11, \"value\": 0.013565821573138237, \"row_token\": \"007 t\", \"col_token\": \"011 have\"}, {\"row\": 7, \"column\": 12, \"value\": 0.008482049219310284, \"row_token\": \"007 t\", \"col_token\": \"012 had\"}, {\"row\": 7, \"column\": 13, \"value\": 0.05912356078624725, \"row_token\": \"007 t\", \"col_token\": \"013 tea\"}, {\"row\": 7, \"column\": 14, \"value\": 0.010488389991223812, \"row_token\": \"007 t\", \"col_token\": \"014 once\"}, {\"row\": 7, \"column\": 15, \"value\": 0.014027385041117668, \"row_token\": \"007 t\", \"col_token\": \"015 to\"}, {\"row\": 7, \"column\": 16, \"value\": 0.012647765688598156, \"row_token\": \"007 t\", \"col_token\": \"016 -\"}, {\"row\": 7, \"column\": 17, \"value\": 0.02131059393286705, \"row_token\": \"007 t\", \"col_token\": \"017 day\"}, {\"row\": 7, \"column\": 18, \"value\": 0.018647994846105576, \"row_token\": \"007 t\", \"col_token\": \"018 ,'\"}, {\"row\": 7, \"column\": 19, \"value\": 0.007978660985827446, \"row_token\": \"007 t\", \"col_token\": \"019 said\"}, {\"row\": 8, \"column\": 0, \"value\": 0.006464066449552774, \"row_token\": \"008 know\", \"col_token\": \"000 [SOS]\"}, {\"row\": 8, \"column\": 1, \"value\": 0.0106337396427989, \"row_token\": \"008 know\", \"col_token\": \"001 '\"}, {\"row\": 8, \"column\": 2, \"value\": 0.020679987967014313, \"row_token\": \"008 know\", \"col_token\": \"002 Why\"}, {\"row\": 8, \"column\": 3, \"value\": 0.017007987946271896, \"row_token\": \"008 know\", \"col_token\": \"003 ,\"}, {\"row\": 8, \"column\": 4, \"value\": 0.050676606595516205, \"row_token\": \"008 know\", \"col_token\": \"004 I\"}, {\"row\": 8, \"column\": 5, \"value\": 0.1644006073474884, \"row_token\": \"008 know\", \"col_token\": \"005 don\"}, {\"row\": 8, \"column\": 6, \"value\": 0.0, \"row_token\": \"008 know\", \"col_token\": \"006 '\"}, {\"row\": 8, \"column\": 7, \"value\": 0.11051405966281891, \"row_token\": \"008 know\", \"col_token\": \"007 t\"}, {\"row\": 8, \"column\": 8, \"value\": 0.009844602085649967, \"row_token\": \"008 know\", \"col_token\": \"008 know\"}, {\"row\": 8, \"column\": 9, \"value\": 0.17510057985782623, \"row_token\": \"008 know\", \"col_token\": \"009 !\"}, {\"row\": 8, \"column\": 10, \"value\": 0.04399066045880318, \"row_token\": \"008 know\", \"col_token\": \"010 We\"}, {\"row\": 8, \"column\": 11, \"value\": 0.02119031734764576, \"row_token\": \"008 know\", \"col_token\": \"011 have\"}, {\"row\": 8, \"column\": 12, \"value\": 0.01807091012597084, \"row_token\": \"008 know\", \"col_token\": \"012 had\"}, {\"row\": 8, \"column\": 13, \"value\": 0.03244875371456146, \"row_token\": \"008 know\", \"col_token\": \"013 tea\"}, {\"row\": 8, \"column\": 14, \"value\": 0.022752385586500168, \"row_token\": \"008 know\", \"col_token\": \"014 once\"}, {\"row\": 8, \"column\": 15, \"value\": 0.019611062481999397, \"row_token\": \"008 know\", \"col_token\": \"015 to\"}, {\"row\": 8, \"column\": 16, \"value\": 0.010347834788262844, \"row_token\": \"008 know\", \"col_token\": \"016 -\"}, {\"row\": 8, \"column\": 17, \"value\": 0.014927058480679989, \"row_token\": \"008 know\", \"col_token\": \"017 day\"}, {\"row\": 8, \"column\": 18, \"value\": 0.01728265918791294, \"row_token\": \"008 know\", \"col_token\": \"018 ,'\"}, {\"row\": 8, \"column\": 19, \"value\": 0.004521628376096487, \"row_token\": \"008 know\", \"col_token\": \"019 said\"}, {\"row\": 9, \"column\": 0, \"value\": 0.006776524242013693, \"row_token\": \"009 !\", \"col_token\": \"000 [SOS]\"}, {\"row\": 9, \"column\": 1, \"value\": 0.008142100647091866, \"row_token\": \"009 !\", \"col_token\": \"001 '\"}, {\"row\": 9, \"column\": 2, \"value\": 0.0, \"row_token\": \"009 !\", \"col_token\": \"002 Why\"}, {\"row\": 9, \"column\": 3, \"value\": 0.004429672844707966, \"row_token\": \"009 !\", \"col_token\": \"003 ,\"}, {\"row\": 9, \"column\": 4, \"value\": 0.006998889148235321, \"row_token\": \"009 !\", \"col_token\": \"004 I\"}, {\"row\": 9, \"column\": 5, \"value\": 0.09743567556142807, \"row_token\": \"009 !\", \"col_token\": \"005 don\"}, {\"row\": 9, \"column\": 6, \"value\": 0.0726490393280983, \"row_token\": \"009 !\", \"col_token\": \"006 '\"}, {\"row\": 9, \"column\": 7, \"value\": 0.10923981666564941, \"row_token\": \"009 !\", \"col_token\": \"007 t\"}, {\"row\": 9, \"column\": 8, \"value\": 0.13709446787834167, \"row_token\": \"009 !\", \"col_token\": \"008 know\"}, {\"row\": 9, \"column\": 9, \"value\": 0.03647172078490257, \"row_token\": \"009 !\", \"col_token\": \"009 !\"}, {\"row\": 9, \"column\": 10, \"value\": 0.10596266388893127, \"row_token\": \"009 !\", \"col_token\": \"010 We\"}, {\"row\": 9, \"column\": 11, \"value\": 0.010107425041496754, \"row_token\": \"009 !\", \"col_token\": \"011 have\"}, {\"row\": 9, \"column\": 12, \"value\": 0.0, \"row_token\": \"009 !\", \"col_token\": \"012 had\"}, {\"row\": 9, \"column\": 13, \"value\": 0.06949710845947266, \"row_token\": \"009 !\", \"col_token\": \"013 tea\"}, {\"row\": 9, \"column\": 14, \"value\": 0.01847008988261223, \"row_token\": \"009 !\", \"col_token\": \"014 once\"}, {\"row\": 9, \"column\": 15, \"value\": 0.006021787878125906, \"row_token\": \"009 !\", \"col_token\": \"015 to\"}, {\"row\": 9, \"column\": 16, \"value\": 0.011731979437172413, \"row_token\": \"009 !\", \"col_token\": \"016 -\"}, {\"row\": 9, \"column\": 17, \"value\": 0.010213987901806831, \"row_token\": \"009 !\", \"col_token\": \"017 day\"}, {\"row\": 9, \"column\": 18, \"value\": 0.002370180794969201, \"row_token\": \"009 !\", \"col_token\": \"018 ,'\"}, {\"row\": 9, \"column\": 19, \"value\": 0.006180548574775457, \"row_token\": \"009 !\", \"col_token\": \"019 said\"}, {\"row\": 10, \"column\": 0, \"value\": 0.006668309215456247, \"row_token\": \"010 We\", \"col_token\": \"000 [SOS]\"}, {\"row\": 10, \"column\": 1, \"value\": 0.01379436906427145, \"row_token\": \"010 We\", \"col_token\": \"001 '\"}, {\"row\": 10, \"column\": 2, \"value\": 0.0, \"row_token\": \"010 We\", \"col_token\": \"002 Why\"}, {\"row\": 10, \"column\": 3, \"value\": 0.006869842763990164, \"row_token\": \"010 We\", \"col_token\": \"003 ,\"}, {\"row\": 10, \"column\": 4, \"value\": 0.0062678512185812, \"row_token\": \"010 We\", \"col_token\": \"004 I\"}, {\"row\": 10, \"column\": 5, \"value\": 0.0, \"row_token\": \"010 We\", \"col_token\": \"005 don\"}, {\"row\": 10, \"column\": 6, \"value\": 0.020553002133965492, \"row_token\": \"010 We\", \"col_token\": \"006 '\"}, {\"row\": 10, \"column\": 7, \"value\": 0.1326635330915451, \"row_token\": \"010 We\", \"col_token\": \"007 t\"}, {\"row\": 10, \"column\": 8, \"value\": 0.28231489658355713, \"row_token\": \"010 We\", \"col_token\": \"008 know\"}, {\"row\": 10, \"column\": 9, \"value\": 0.17190414667129517, \"row_token\": \"010 We\", \"col_token\": \"009 !\"}, {\"row\": 10, \"column\": 10, \"value\": 0.044556133449077606, \"row_token\": \"010 We\", \"col_token\": \"010 We\"}, {\"row\": 10, \"column\": 11, \"value\": 0.028557749465107918, \"row_token\": \"010 We\", \"col_token\": \"011 have\"}, {\"row\": 10, \"column\": 12, \"value\": 0.018246181309223175, \"row_token\": \"010 We\", \"col_token\": \"012 had\"}, {\"row\": 10, \"column\": 13, \"value\": 0.0, \"row_token\": \"010 We\", \"col_token\": \"013 tea\"}, {\"row\": 10, \"column\": 14, \"value\": 0.030161146074533463, \"row_token\": \"010 We\", \"col_token\": \"014 once\"}, {\"row\": 10, \"column\": 15, \"value\": 0.021811172366142273, \"row_token\": \"010 We\", \"col_token\": \"015 to\"}, {\"row\": 10, \"column\": 16, \"value\": 0.03458072245121002, \"row_token\": \"010 We\", \"col_token\": \"016 -\"}, {\"row\": 10, \"column\": 17, \"value\": 0.05329465866088867, \"row_token\": \"010 We\", \"col_token\": \"017 day\"}, {\"row\": 10, \"column\": 18, \"value\": 0.021759020164608955, \"row_token\": \"010 We\", \"col_token\": \"018 ,'\"}, {\"row\": 10, \"column\": 19, \"value\": 0.008723883889615536, \"row_token\": \"010 We\", \"col_token\": \"019 said\"}, {\"row\": 11, \"column\": 0, \"value\": 0.0021405480802059174, \"row_token\": \"011 have\", \"col_token\": \"000 [SOS]\"}, {\"row\": 11, \"column\": 1, \"value\": 0.005013890098780394, \"row_token\": \"011 have\", \"col_token\": \"001 '\"}, {\"row\": 11, \"column\": 2, \"value\": 0.014616718515753746, \"row_token\": \"011 have\", \"col_token\": \"002 Why\"}, {\"row\": 11, \"column\": 3, \"value\": 0.0, \"row_token\": \"011 have\", \"col_token\": \"003 ,\"}, {\"row\": 11, \"column\": 4, \"value\": 0.006366159301251173, \"row_token\": \"011 have\", \"col_token\": \"004 I\"}, {\"row\": 11, \"column\": 5, \"value\": 0.006261477712541819, \"row_token\": \"011 have\", \"col_token\": \"005 don\"}, {\"row\": 11, \"column\": 6, \"value\": 0.010436486452817917, \"row_token\": \"011 have\", \"col_token\": \"006 '\"}, {\"row\": 11, \"column\": 7, \"value\": 0.021444356068968773, \"row_token\": \"011 have\", \"col_token\": \"007 t\"}, {\"row\": 11, \"column\": 8, \"value\": 0.0, \"row_token\": \"011 have\", \"col_token\": \"008 know\"}, {\"row\": 11, \"column\": 9, \"value\": 0.08889668434858322, \"row_token\": \"011 have\", \"col_token\": \"009 !\"}, {\"row\": 11, \"column\": 10, \"value\": 0.5216329097747803, \"row_token\": \"011 have\", \"col_token\": \"010 We\"}, {\"row\": 11, \"column\": 11, \"value\": 0.008813302963972092, \"row_token\": \"011 have\", \"col_token\": \"011 have\"}, {\"row\": 11, \"column\": 12, \"value\": 0.009049400687217712, \"row_token\": \"011 have\", \"col_token\": \"012 had\"}, {\"row\": 11, \"column\": 13, \"value\": 0.044982198625802994, \"row_token\": \"011 have\", \"col_token\": \"013 tea\"}, {\"row\": 11, \"column\": 14, \"value\": 0.013725748285651207, \"row_token\": \"011 have\", \"col_token\": \"014 once\"}, {\"row\": 11, \"column\": 15, \"value\": 0.0026231424417346716, \"row_token\": \"011 have\", \"col_token\": \"015 to\"}, {\"row\": 11, \"column\": 16, \"value\": 0.010480863973498344, \"row_token\": \"011 have\", \"col_token\": \"016 -\"}, {\"row\": 11, \"column\": 17, \"value\": 0.023295512422919273, \"row_token\": \"011 have\", \"col_token\": \"017 day\"}, {\"row\": 11, \"column\": 18, \"value\": 0.0127000967040658, \"row_token\": \"011 have\", \"col_token\": \"018 ,'\"}, {\"row\": 11, \"column\": 19, \"value\": 0.01793556660413742, \"row_token\": \"011 have\", \"col_token\": \"019 said\"}, {\"row\": 12, \"column\": 0, \"value\": 0.0, \"row_token\": \"012 had\", \"col_token\": \"000 [SOS]\"}, {\"row\": 12, \"column\": 1, \"value\": 0.003239952027797699, \"row_token\": \"012 had\", \"col_token\": \"001 '\"}, {\"row\": 12, \"column\": 2, \"value\": 0.00788568239659071, \"row_token\": \"012 had\", \"col_token\": \"002 Why\"}, {\"row\": 12, \"column\": 3, \"value\": 0.0007984020630829036, \"row_token\": \"012 had\", \"col_token\": \"003 ,\"}, {\"row\": 12, \"column\": 4, \"value\": 0.004105737898498774, \"row_token\": \"012 had\", \"col_token\": \"004 I\"}, {\"row\": 12, \"column\": 5, \"value\": 0.004517922643572092, \"row_token\": \"012 had\", \"col_token\": \"005 don\"}, {\"row\": 12, \"column\": 6, \"value\": 0.003978072199970484, \"row_token\": \"012 had\", \"col_token\": \"006 '\"}, {\"row\": 12, \"column\": 7, \"value\": 0.012607323937118053, \"row_token\": \"012 had\", \"col_token\": \"007 t\"}, {\"row\": 12, \"column\": 8, \"value\": 0.019491376355290413, \"row_token\": \"012 had\", \"col_token\": \"008 know\"}, {\"row\": 12, \"column\": 9, \"value\": 0.15873152017593384, \"row_token\": \"012 had\", \"col_token\": \"009 !\"}, {\"row\": 12, \"column\": 10, \"value\": 0.3778766691684723, \"row_token\": \"012 had\", \"col_token\": \"010 We\"}, {\"row\": 12, \"column\": 11, \"value\": 0.22190511226654053, \"row_token\": \"012 had\", \"col_token\": \"011 have\"}, {\"row\": 12, \"column\": 12, \"value\": 0.006366512272506952, \"row_token\": \"012 had\", \"col_token\": \"012 had\"}, {\"row\": 12, \"column\": 13, \"value\": 0.11453871428966522, \"row_token\": \"012 had\", \"col_token\": \"013 tea\"}, {\"row\": 12, \"column\": 14, \"value\": 0.0159264225512743, \"row_token\": \"012 had\", \"col_token\": \"014 once\"}, {\"row\": 12, \"column\": 15, \"value\": 0.006370274815708399, \"row_token\": \"012 had\", \"col_token\": \"015 to\"}, {\"row\": 12, \"column\": 16, \"value\": 0.008493269793689251, \"row_token\": \"012 had\", \"col_token\": \"016 -\"}, {\"row\": 12, \"column\": 17, \"value\": 0.005740269552916288, \"row_token\": \"012 had\", \"col_token\": \"017 day\"}, {\"row\": 12, \"column\": 18, \"value\": 0.009269112721085548, \"row_token\": \"012 had\", \"col_token\": \"018 ,'\"}, {\"row\": 12, \"column\": 19, \"value\": 0.004816337488591671, \"row_token\": \"012 had\", \"col_token\": \"019 said\"}, {\"row\": 13, \"column\": 0, \"value\": 0.0052027516067028046, \"row_token\": \"013 tea\", \"col_token\": \"000 [SOS]\"}, {\"row\": 13, \"column\": 1, \"value\": 0.002495216205716133, \"row_token\": \"013 tea\", \"col_token\": \"001 '\"}, {\"row\": 13, \"column\": 2, \"value\": 0.005982865579426289, \"row_token\": \"013 tea\", \"col_token\": \"002 Why\"}, {\"row\": 13, \"column\": 3, \"value\": 0.001272612251341343, \"row_token\": \"013 tea\", \"col_token\": \"003 ,\"}, {\"row\": 13, \"column\": 4, \"value\": 0.005649823695421219, \"row_token\": \"013 tea\", \"col_token\": \"004 I\"}, {\"row\": 13, \"column\": 5, \"value\": 0.007449069060385227, \"row_token\": \"013 tea\", \"col_token\": \"005 don\"}, {\"row\": 13, \"column\": 6, \"value\": 0.0, \"row_token\": \"013 tea\", \"col_token\": \"006 '\"}, {\"row\": 13, \"column\": 7, \"value\": 0.006942406762391329, \"row_token\": \"013 tea\", \"col_token\": \"007 t\"}, {\"row\": 13, \"column\": 8, \"value\": 0.01612878032028675, \"row_token\": \"013 tea\", \"col_token\": \"008 know\"}, {\"row\": 13, \"column\": 9, \"value\": 0.038368575274944305, \"row_token\": \"013 tea\", \"col_token\": \"009 !\"}, {\"row\": 13, \"column\": 10, \"value\": 0.1674729734659195, \"row_token\": \"013 tea\", \"col_token\": \"010 We\"}, {\"row\": 13, \"column\": 11, \"value\": 0.16902728378772736, \"row_token\": \"013 tea\", \"col_token\": \"011 have\"}, {\"row\": 13, \"column\": 12, \"value\": 0.2942599356174469, \"row_token\": \"013 tea\", \"col_token\": \"012 had\"}, {\"row\": 13, \"column\": 13, \"value\": 0.05321719869971275, \"row_token\": \"013 tea\", \"col_token\": \"013 tea\"}, {\"row\": 13, \"column\": 14, \"value\": 0.01689206436276436, \"row_token\": \"013 tea\", \"col_token\": \"014 once\"}, {\"row\": 13, \"column\": 15, \"value\": 0.0, \"row_token\": \"013 tea\", \"col_token\": \"015 to\"}, {\"row\": 13, \"column\": 16, \"value\": 0.014142901636660099, \"row_token\": \"013 tea\", \"col_token\": \"016 -\"}, {\"row\": 13, \"column\": 17, \"value\": 0.02247561700642109, \"row_token\": \"013 tea\", \"col_token\": \"017 day\"}, {\"row\": 13, \"column\": 18, \"value\": 0.012080809101462364, \"row_token\": \"013 tea\", \"col_token\": \"018 ,'\"}, {\"row\": 13, \"column\": 19, \"value\": 0.01168836373835802, \"row_token\": \"013 tea\", \"col_token\": \"019 said\"}, {\"row\": 14, \"column\": 0, \"value\": 0.016962319612503052, \"row_token\": \"014 once\", \"col_token\": \"000 [SOS]\"}, {\"row\": 14, \"column\": 1, \"value\": 0.006591595243662596, \"row_token\": \"014 once\", \"col_token\": \"001 '\"}, {\"row\": 14, \"column\": 2, \"value\": 0.012006307020783424, \"row_token\": \"014 once\", \"col_token\": \"002 Why\"}, {\"row\": 14, \"column\": 3, \"value\": 0.0013783493777737021, \"row_token\": \"014 once\", \"col_token\": \"003 ,\"}, {\"row\": 14, \"column\": 4, \"value\": 0.019219473004341125, \"row_token\": \"014 once\", \"col_token\": \"004 I\"}, {\"row\": 14, \"column\": 5, \"value\": 0.02090282551944256, \"row_token\": \"014 once\", \"col_token\": \"005 don\"}, {\"row\": 14, \"column\": 6, \"value\": 0.0047362931072711945, \"row_token\": \"014 once\", \"col_token\": \"006 '\"}, {\"row\": 14, \"column\": 7, \"value\": 0.01312230434268713, \"row_token\": \"014 once\", \"col_token\": \"007 t\"}, {\"row\": 14, \"column\": 8, \"value\": 0.013531486503779888, \"row_token\": \"014 once\", \"col_token\": \"008 know\"}, {\"row\": 14, \"column\": 9, \"value\": 0.012113151140511036, \"row_token\": \"014 once\", \"col_token\": \"009 !\"}, {\"row\": 14, \"column\": 10, \"value\": 0.05016461759805679, \"row_token\": \"014 once\", \"col_token\": \"010 We\"}, {\"row\": 14, \"column\": 11, \"value\": 0.03367280215024948, \"row_token\": \"014 once\", \"col_token\": \"011 have\"}, {\"row\": 14, \"column\": 12, \"value\": 0.04639360308647156, \"row_token\": \"014 once\", \"col_token\": \"012 had\"}, {\"row\": 14, \"column\": 13, \"value\": 0.23373474180698395, \"row_token\": \"014 once\", \"col_token\": \"013 tea\"}, {\"row\": 14, \"column\": 14, \"value\": 0.051126036792993546, \"row_token\": \"014 once\", \"col_token\": \"014 once\"}, {\"row\": 14, \"column\": 15, \"value\": 0.03895459696650505, \"row_token\": \"014 once\", \"col_token\": \"015 to\"}, {\"row\": 14, \"column\": 16, \"value\": 0.01609189622104168, \"row_token\": \"014 once\", \"col_token\": \"016 -\"}, {\"row\": 14, \"column\": 17, \"value\": 0.032509468495845795, \"row_token\": \"014 once\", \"col_token\": \"017 day\"}, {\"row\": 14, \"column\": 18, \"value\": 0.02849663980305195, \"row_token\": \"014 once\", \"col_token\": \"018 ,'\"}, {\"row\": 14, \"column\": 19, \"value\": 0.0, \"row_token\": \"014 once\", \"col_token\": \"019 said\"}, {\"row\": 15, \"column\": 0, \"value\": 0.002542234491556883, \"row_token\": \"015 to\", \"col_token\": \"000 [SOS]\"}, {\"row\": 15, \"column\": 1, \"value\": 0.0, \"row_token\": \"015 to\", \"col_token\": \"001 '\"}, {\"row\": 15, \"column\": 2, \"value\": 0.006318867206573486, \"row_token\": \"015 to\", \"col_token\": \"002 Why\"}, {\"row\": 15, \"column\": 3, \"value\": 0.0005956097738817334, \"row_token\": \"015 to\", \"col_token\": \"003 ,\"}, {\"row\": 15, \"column\": 4, \"value\": 0.005020984448492527, \"row_token\": \"015 to\", \"col_token\": \"004 I\"}, {\"row\": 15, \"column\": 5, \"value\": 0.010495739988982677, \"row_token\": \"015 to\", \"col_token\": \"005 don\"}, {\"row\": 15, \"column\": 6, \"value\": 0.005298975855112076, \"row_token\": \"015 to\", \"col_token\": \"006 '\"}, {\"row\": 15, \"column\": 7, \"value\": 0.012444456107914448, \"row_token\": \"015 to\", \"col_token\": \"007 t\"}, {\"row\": 15, \"column\": 8, \"value\": 0.0, \"row_token\": \"015 to\", \"col_token\": \"008 know\"}, {\"row\": 15, \"column\": 9, \"value\": 0.03422531485557556, \"row_token\": \"015 to\", \"col_token\": \"009 !\"}, {\"row\": 15, \"column\": 10, \"value\": 0.03657222539186478, \"row_token\": \"015 to\", \"col_token\": \"010 We\"}, {\"row\": 15, \"column\": 11, \"value\": 0.02740478329360485, \"row_token\": \"015 to\", \"col_token\": \"011 have\"}, {\"row\": 15, \"column\": 12, \"value\": 0.04702362045645714, \"row_token\": \"015 to\", \"col_token\": \"012 had\"}, {\"row\": 15, \"column\": 13, \"value\": 0.0, \"row_token\": \"015 to\", \"col_token\": \"013 tea\"}, {\"row\": 15, \"column\": 14, \"value\": 0.193247452378273, \"row_token\": \"015 to\", \"col_token\": \"014 once\"}, {\"row\": 15, \"column\": 15, \"value\": 0.017651326954364777, \"row_token\": \"015 to\", \"col_token\": \"015 to\"}, {\"row\": 15, \"column\": 16, \"value\": 0.01829044334590435, \"row_token\": \"015 to\", \"col_token\": \"016 -\"}, {\"row\": 15, \"column\": 17, \"value\": 0.0, \"row_token\": \"015 to\", \"col_token\": \"017 day\"}, {\"row\": 15, \"column\": 18, \"value\": 0.0, \"row_token\": \"015 to\", \"col_token\": \"018 ,'\"}, {\"row\": 15, \"column\": 19, \"value\": 0.013386118225753307, \"row_token\": \"015 to\", \"col_token\": \"019 said\"}, {\"row\": 16, \"column\": 0, \"value\": 0.00731051666662097, \"row_token\": \"016 -\", \"col_token\": \"000 [SOS]\"}, {\"row\": 16, \"column\": 1, \"value\": 0.005309135187417269, \"row_token\": \"016 -\", \"col_token\": \"001 '\"}, {\"row\": 16, \"column\": 2, \"value\": 0.014086388051509857, \"row_token\": \"016 -\", \"col_token\": \"002 Why\"}, {\"row\": 16, \"column\": 3, \"value\": 0.0008877578075043857, \"row_token\": \"016 -\", \"col_token\": \"003 ,\"}, {\"row\": 16, \"column\": 4, \"value\": 0.0043980940245091915, \"row_token\": \"016 -\", \"col_token\": \"004 I\"}, {\"row\": 16, \"column\": 5, \"value\": 0.016221757978200912, \"row_token\": \"016 -\", \"col_token\": \"005 don\"}, {\"row\": 16, \"column\": 6, \"value\": 0.00366456201300025, \"row_token\": \"016 -\", \"col_token\": \"006 '\"}, {\"row\": 16, \"column\": 7, \"value\": 0.0, \"row_token\": \"016 -\", \"col_token\": \"007 t\"}, {\"row\": 16, \"column\": 8, \"value\": 0.01952463388442993, \"row_token\": \"016 -\", \"col_token\": \"008 know\"}, {\"row\": 16, \"column\": 9, \"value\": 0.038248103111982346, \"row_token\": \"016 -\", \"col_token\": \"009 !\"}, {\"row\": 16, \"column\": 10, \"value\": 0.04154200479388237, \"row_token\": \"016 -\", \"col_token\": \"010 We\"}, {\"row\": 16, \"column\": 11, \"value\": 0.02491065487265587, \"row_token\": \"016 -\", \"col_token\": \"011 have\"}, {\"row\": 16, \"column\": 12, \"value\": 0.0, \"row_token\": \"016 -\", \"col_token\": \"012 had\"}, {\"row\": 16, \"column\": 13, \"value\": 0.059887975454330444, \"row_token\": \"016 -\", \"col_token\": \"013 tea\"}, {\"row\": 16, \"column\": 14, \"value\": 0.09097438305616379, \"row_token\": \"016 -\", \"col_token\": \"014 once\"}, {\"row\": 16, \"column\": 15, \"value\": 0.06627406924962997, \"row_token\": \"016 -\", \"col_token\": \"015 to\"}, {\"row\": 16, \"column\": 16, \"value\": 0.009845909662544727, \"row_token\": \"016 -\", \"col_token\": \"016 -\"}, {\"row\": 16, \"column\": 17, \"value\": 0.2179654985666275, \"row_token\": \"016 -\", \"col_token\": \"017 day\"}, {\"row\": 16, \"column\": 18, \"value\": 0.020665086805820465, \"row_token\": \"016 -\", \"col_token\": \"018 ,'\"}, {\"row\": 16, \"column\": 19, \"value\": 0.031989794224500656, \"row_token\": \"016 -\", \"col_token\": \"019 said\"}, {\"row\": 17, \"column\": 0, \"value\": 0.012650148943066597, \"row_token\": \"017 day\", \"col_token\": \"000 [SOS]\"}, {\"row\": 17, \"column\": 1, \"value\": 0.005340870935469866, \"row_token\": \"017 day\", \"col_token\": \"001 '\"}, {\"row\": 17, \"column\": 2, \"value\": 0.004142850171774626, \"row_token\": \"017 day\", \"col_token\": \"002 Why\"}, {\"row\": 17, \"column\": 3, \"value\": 0.001596660353243351, \"row_token\": \"017 day\", \"col_token\": \"003 ,\"}, {\"row\": 17, \"column\": 4, \"value\": 0.005036866758018732, \"row_token\": \"017 day\", \"col_token\": \"004 I\"}, {\"row\": 17, \"column\": 5, \"value\": 0.01544709037989378, \"row_token\": \"017 day\", \"col_token\": \"005 don\"}, {\"row\": 17, \"column\": 6, \"value\": 0.004857418593019247, \"row_token\": \"017 day\", \"col_token\": \"006 '\"}, {\"row\": 17, \"column\": 7, \"value\": 0.008418659679591656, \"row_token\": \"017 day\", \"col_token\": \"007 t\"}, {\"row\": 17, \"column\": 8, \"value\": 0.013537260703742504, \"row_token\": \"017 day\", \"col_token\": \"008 know\"}, {\"row\": 17, \"column\": 9, \"value\": 0.006173181347548962, \"row_token\": \"017 day\", \"col_token\": \"009 !\"}, {\"row\": 17, \"column\": 10, \"value\": 0.019534891471266747, \"row_token\": \"017 day\", \"col_token\": \"010 We\"}, {\"row\": 17, \"column\": 11, \"value\": 0.008859056048095226, \"row_token\": \"017 day\", \"col_token\": \"011 have\"}, {\"row\": 17, \"column\": 12, \"value\": 0.010604333132505417, \"row_token\": \"017 day\", \"col_token\": \"012 had\"}, {\"row\": 17, \"column\": 13, \"value\": 0.06428959965705872, \"row_token\": \"017 day\", \"col_token\": \"013 tea\"}, {\"row\": 17, \"column\": 14, \"value\": 0.04707613214850426, \"row_token\": \"017 day\", \"col_token\": \"014 once\"}, {\"row\": 17, \"column\": 15, \"value\": 0.0, \"row_token\": \"017 day\", \"col_token\": \"015 to\"}, {\"row\": 17, \"column\": 16, \"value\": 0.0, \"row_token\": \"017 day\", \"col_token\": \"016 -\"}, {\"row\": 17, \"column\": 17, \"value\": 0.035736847668886185, \"row_token\": \"017 day\", \"col_token\": \"017 day\"}, {\"row\": 17, \"column\": 18, \"value\": 0.1472284495830536, \"row_token\": \"017 day\", \"col_token\": \"018 ,'\"}, {\"row\": 17, \"column\": 19, \"value\": 0.03631455823779106, \"row_token\": \"017 day\", \"col_token\": \"019 said\"}, {\"row\": 18, \"column\": 0, \"value\": 0.0077232737094163895, \"row_token\": \"018 ,'\", \"col_token\": \"000 [SOS]\"}, {\"row\": 18, \"column\": 1, \"value\": 0.003480463521555066, \"row_token\": \"018 ,'\", \"col_token\": \"001 '\"}, {\"row\": 18, \"column\": 2, \"value\": 0.011655670590698719, \"row_token\": \"018 ,'\", \"col_token\": \"002 Why\"}, {\"row\": 18, \"column\": 3, \"value\": 0.0010231187334284186, \"row_token\": \"018 ,'\", \"col_token\": \"003 ,\"}, {\"row\": 18, \"column\": 4, \"value\": 0.003607930149883032, \"row_token\": \"018 ,'\", \"col_token\": \"004 I\"}, {\"row\": 18, \"column\": 5, \"value\": 0.012090614065527916, \"row_token\": \"018 ,'\", \"col_token\": \"005 don\"}, {\"row\": 18, \"column\": 6, \"value\": 0.006224244832992554, \"row_token\": \"018 ,'\", \"col_token\": \"006 '\"}, {\"row\": 18, \"column\": 7, \"value\": 0.013077887706458569, \"row_token\": \"018 ,'\", \"col_token\": \"007 t\"}, {\"row\": 18, \"column\": 8, \"value\": 0.023254595696926117, \"row_token\": \"018 ,'\", \"col_token\": \"008 know\"}, {\"row\": 18, \"column\": 9, \"value\": 0.005570155568420887, \"row_token\": \"018 ,'\", \"col_token\": \"009 !\"}, {\"row\": 18, \"column\": 10, \"value\": 0.018341217190027237, \"row_token\": \"018 ,'\", \"col_token\": \"010 We\"}, {\"row\": 18, \"column\": 11, \"value\": 0.010258118622004986, \"row_token\": \"018 ,'\", \"col_token\": \"011 have\"}, {\"row\": 18, \"column\": 12, \"value\": 0.015375949442386627, \"row_token\": \"018 ,'\", \"col_token\": \"012 had\"}, {\"row\": 18, \"column\": 13, \"value\": 0.05119893699884415, \"row_token\": \"018 ,'\", \"col_token\": \"013 tea\"}, {\"row\": 18, \"column\": 14, \"value\": 0.040929004549980164, \"row_token\": \"018 ,'\", \"col_token\": \"014 once\"}, {\"row\": 18, \"column\": 15, \"value\": 0.08810531347990036, \"row_token\": \"018 ,'\", \"col_token\": \"015 to\"}, {\"row\": 18, \"column\": 16, \"value\": 0.1877138763666153, \"row_token\": \"018 ,'\", \"col_token\": \"016 -\"}, {\"row\": 18, \"column\": 17, \"value\": 0.28236111998558044, \"row_token\": \"018 ,'\", \"col_token\": \"017 day\"}, {\"row\": 18, \"column\": 18, \"value\": 0.026834845542907715, \"row_token\": \"018 ,'\", \"col_token\": \"018 ,'\"}, {\"row\": 18, \"column\": 19, \"value\": 0.09992607682943344, \"row_token\": \"018 ,'\", \"col_token\": \"019 said\"}, {\"row\": 19, \"column\": 0, \"value\": 0.002110373694449663, \"row_token\": \"019 said\", \"col_token\": \"000 [SOS]\"}, {\"row\": 19, \"column\": 1, \"value\": 0.0029058833606541157, \"row_token\": \"019 said\", \"col_token\": \"001 '\"}, {\"row\": 19, \"column\": 2, \"value\": 0.004794506821781397, \"row_token\": \"019 said\", \"col_token\": \"002 Why\"}, {\"row\": 19, \"column\": 3, \"value\": 0.0, \"row_token\": \"019 said\", \"col_token\": \"003 ,\"}, {\"row\": 19, \"column\": 4, \"value\": 0.00214930297806859, \"row_token\": \"019 said\", \"col_token\": \"004 I\"}, {\"row\": 19, \"column\": 5, \"value\": 0.00431986665353179, \"row_token\": \"019 said\", \"col_token\": \"005 don\"}, {\"row\": 19, \"column\": 6, \"value\": 0.0035120572429150343, \"row_token\": \"019 said\", \"col_token\": \"006 '\"}, {\"row\": 19, \"column\": 7, \"value\": 0.0028765499591827393, \"row_token\": \"019 said\", \"col_token\": \"007 t\"}, {\"row\": 19, \"column\": 8, \"value\": 0.0, \"row_token\": \"019 said\", \"col_token\": \"008 know\"}, {\"row\": 19, \"column\": 9, \"value\": 0.008642463013529778, \"row_token\": \"019 said\", \"col_token\": \"009 !\"}, {\"row\": 19, \"column\": 10, \"value\": 0.015035249292850494, \"row_token\": \"019 said\", \"col_token\": \"010 We\"}, {\"row\": 19, \"column\": 11, \"value\": 0.005525581073015928, \"row_token\": \"019 said\", \"col_token\": \"011 have\"}, {\"row\": 19, \"column\": 12, \"value\": 0.010757174342870712, \"row_token\": \"019 said\", \"col_token\": \"012 had\"}, {\"row\": 19, \"column\": 13, \"value\": 0.005887480918318033, \"row_token\": \"019 said\", \"col_token\": \"013 tea\"}, {\"row\": 19, \"column\": 14, \"value\": 0.013668232597410679, \"row_token\": \"019 said\", \"col_token\": \"014 once\"}, {\"row\": 19, \"column\": 15, \"value\": 0.010200588032603264, \"row_token\": \"019 said\", \"col_token\": \"015 to\"}, {\"row\": 19, \"column\": 16, \"value\": 0.04032998904585838, \"row_token\": \"019 said\", \"col_token\": \"016 -\"}, {\"row\": 19, \"column\": 17, \"value\": 0.22421197593212128, \"row_token\": \"019 said\", \"col_token\": \"017 day\"}, {\"row\": 19, \"column\": 18, \"value\": 0.4582703411579132, \"row_token\": \"019 said\", \"col_token\": \"018 ,'\"}, {\"row\": 19, \"column\": 19, \"value\": 0.034010495990514755, \"row_token\": \"019 said\", \"col_token\": \"019 said\"}]}}, {\"mode\": \"vega-lite\"});\n",
              "</script>"
            ],
            "text/plain": [
              "alt.VConcatChart(...)"
            ]
          },
          "metadata": {},
          "execution_count": 12
        }
      ],
      "source": [
        "layers = [0] # we have six of them actual\n",
        "heads = [0] # all the heads\n",
        "\n",
        "# Encoder Self-Attention\n",
        "get_all_attention_maps(\"encoder\", layers, heads, encoder_input_tokens, encoder_input_tokens, min(20, sentence_len))\n"
      ]
    },
    {
      "cell_type": "code",
      "source": [
        "# Let us now compute norm and rank of this matrix\n",
        "import numpy as np\n",
        "\n",
        "def get_attn_weights(attn_type: str, layer: int, head: int):\n",
        "    if attn_type == \"encoder\":\n",
        "        attn = model.encoder.layers[layer].self_attention_block.attention_scores\n",
        "    return attn[0, head].data.numpy() # return the attention weights matrix as a numpy array\n",
        "\n",
        "def compute_norm_and_rank(attn_type, layer, head):\n",
        "    attn_weights = get_attn_weights(attn_type, layer, head)\n",
        "    print(attn_weights.shape)\n",
        "    norm = np.linalg.norm(attn_weights)\n",
        "    rank = np.linalg.matrix_rank(attn_weights)\n",
        "    return norm, rank\n",
        "\n",
        "layer = 0\n",
        "head = 0\n",
        "norm, rank = compute_norm_and_rank(\"encoder\", layer, head)\n",
        "print(f\"Norm of attention weights: {norm}\")\n",
        "print(f\"Rank of attention weights: {rank}\")"
      ],
      "metadata": {
        "colab": {
          "base_uri": "https://localhost:8080/"
        },
        "id": "e3L_ojMzQWE8",
        "outputId": "b8dc9f1b-6001-4df1-bbbf-feac75662a4b"
      },
      "execution_count": 18,
      "outputs": [
        {
          "output_type": "stream",
          "name": "stdout",
          "text": [
            "(350, 350)\n",
            "Norm of attention weights: 5.034919738769531\n",
            "Rank of attention weights: 37\n"
          ]
        }
      ]
    },
    {
      "cell_type": "code",
      "execution_count": null,
      "metadata": {
        "id": "0LgVLQmwO82D"
      },
      "outputs": [],
      "source": [
        "# Decoder Self-Attention\n",
        "get_all_attention_maps(\"decoder\", layers, heads, decoder_input_tokens, decoder_input_tokens, min(20, sentence_len))"
      ]
    },
    {
      "cell_type": "code",
      "execution_count": null,
      "metadata": {
        "id": "w-xGbb9fO82D"
      },
      "outputs": [],
      "source": [
        "# Cross attention\n",
        "get_all_attention_maps(\"encoder-decoder\", layers, heads, encoder_input_tokens, decoder_input_tokens, min(20, sentence_len))"
      ]
    }
  ],
  "metadata": {
    "kernelspec": {
      "display_name": "transformer",
      "language": "python",
      "name": "python3"
    },
    "language_info": {
      "codemirror_mode": {
        "name": "ipython",
        "version": 3
      },
      "file_extension": ".py",
      "mimetype": "text/x-python",
      "name": "python",
      "nbconvert_exporter": "python",
      "pygments_lexer": "ipython3",
      "version": "3.10.6"
    },
    "orig_nbformat": 4,
    "colab": {
      "provenance": []
    }
  },
  "nbformat": 4,
  "nbformat_minor": 0
}