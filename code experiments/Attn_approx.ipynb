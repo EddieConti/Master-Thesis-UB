{
  "nbformat": 4,
  "nbformat_minor": 0,
  "metadata": {
    "colab": {
      "provenance": []
    },
    "kernelspec": {
      "name": "python3",
      "display_name": "Python 3"
    },
    "language_info": {
      "name": "python"
    }
  },
  "cells": [
    {
      "cell_type": "markdown",
      "source": [
        "In this notebook we aim at computing how well we are approximating the attention scores matrix with the formula\n",
        "$$\n",
        "(I_nP+E)\n",
        "$$"
      ],
      "metadata": {
        "id": "Ge1n056z0jPU"
      }
    },
    {
      "cell_type": "code",
      "source": [
        "import numpy as np\n",
        "import scipy\n",
        "import pickle"
      ],
      "metadata": {
        "id": "IIUOpY_l0obq"
      },
      "execution_count": null,
      "outputs": []
    },
    {
      "cell_type": "markdown",
      "source": [
        "Firstly we code the base functions to generate a bunch of matrices of the desired form belonging to the three sets $\\Sigma_1,\\Sigma_2,\\Sigma_3$"
      ],
      "metadata": {
        "id": "IwpmoKXc1JaI"
      }
    },
    {
      "cell_type": "code",
      "source": [
        "# Diagonal matrix with error\n",
        "def creatediagonal(n): #d is the vector dimension of the matrix\n",
        "    vect=np.ones(n)-0.1*np.random.rand(n)\n",
        "    # Now we add the sparse matrix\n",
        "    sparse_matrix = 0.5*scipy.sparse.random(n, n, density=1/n) # usually that is the density of sparse matrix.\n",
        "    sparse_matrix.setdiag(0) # we do not want to affect diagonal values\n",
        "    sigma_1=np.diag(vect)+sparse_matrix.todense()\n",
        "    # now we normalize by rows sigma_1\n",
        "    row_sums = np.array(sigma_1.sum(axis=1)).flatten()\n",
        "    sigma_1=sigma_1 / row_sums[:, np.newaxis]\n",
        "    return sigma_1\n",
        "\n",
        "# Almost diagonal matrix\n",
        "def context(n,w): #here w stands for window size.\n",
        "    context_matrix = np.zeros((n, n))\n",
        "    for i in range(n):\n",
        "      for j in range(max(0, i - w), min(i + w + 1, n)):\n",
        "            # Apply the dropout\n",
        "          if np.random.rand() > 0.4: # dropout probability\n",
        "              context_matrix[i, j] = np.random.uniform(0.7, 1)\n",
        "    return context_matrix\n",
        "\n",
        "\n",
        "# Syntactic matrices\n",
        "def createsintact(n, w, dropout_prob=0.4):\n",
        "    context_matrix = np.zeros((n, n))\n",
        "    for i in range(n):\n",
        "      for j in range(max(0, i - w), min(i + w + 1, n)):\n",
        "            # Apply the dropout\n",
        "          if np.random.rand() > dropout_prob:\n",
        "              context_matrix[i, j] = np.random.uniform(0.7, 1)\n",
        "\n",
        "    # Adding noise and normalizing\n",
        "    sparse_matrix = 0.5 * scipy.sparse.random(n, n, density=1 / n)\n",
        "    sparse_matrix.setdiag(0)\n",
        "    sigma_2 = context_matrix + sparse_matrix.todense()\n",
        "    row_sums = np.array(sigma_2.sum(axis=1)).flatten()\n",
        "    sigma_2 = sigma_2 / row_sums[:, np.newaxis]\n",
        "\n",
        "    return sigma_2\n",
        "\n",
        "def verticalmatrix(w): # how many other words that word will attend\n",
        "    matrix = np.zeros((w, w))\n",
        "    matrix[:, 0] = np.random.uniform(size=w,low=0.7, high=1) # vertical attending.\n",
        "    return matrix[:, 0]\n",
        "\n",
        "\n"
      ],
      "metadata": {
        "id": "M-ZskBuc1e7m"
      },
      "execution_count": null,
      "outputs": []
    },
    {
      "cell_type": "code",
      "source": [
        "def generate_positions(n, num_positions, w):\n",
        "    max_position = n - w+1\n",
        "    min_distance = w\n",
        "    positions = []\n",
        "    while len(positions) < num_positions:\n",
        "        new_position = np.random.randint(1, max_position + 1)\n",
        "        if all(abs(new_position - pos) >= min_distance for pos in positions):\n",
        "            positions.append(new_position)\n",
        "\n",
        "    return np.sort(positions)\n",
        "\n",
        "\n",
        "def raretoken(n,num_elements,w):\n",
        "    matrix = np.eye(n)\n",
        "    diagonal_values = np.random.uniform(size=n, low=0.7, high=1)\n",
        "    np.fill_diagonal(matrix, diagonal_values)\n",
        "    positions=generate_positions(n, num_elements, w)\n",
        "    for pos in positions:\n",
        "      for i in range(w):\n",
        "        matrix[pos-1+i,pos-1]=matrix[pos-1+i,pos-1+i]\n",
        "        if i>0:\n",
        "          matrix[pos-1+i,pos-1+i]=0\n",
        "\n",
        "    # Adding noise and normalizing\n",
        "    sparse_matrix = 0.5 * scipy.sparse.random(n, n, density=1 / n)\n",
        "    sparse_matrix.setdiag(0)\n",
        "    sigma_3 = matrix + sparse_matrix.todense()\n",
        "    row_sums = np.array(sigma_3.sum(axis=1)).flatten()\n",
        "    sigma_3 = sigma_3 / row_sums[:, np.newaxis]\n",
        "\n",
        "    return sigma_3\n",
        "\n"
      ],
      "metadata": {
        "id": "OEJ8vQxdQWHB"
      },
      "execution_count": null,
      "outputs": []
    },
    {
      "cell_type": "code",
      "source": [
        "A=raretoken(10,2,3)"
      ],
      "metadata": {
        "id": "JZYyQNdpYz7Y"
      },
      "execution_count": null,
      "outputs": []
    },
    {
      "cell_type": "code",
      "source": [
        "print(A)"
      ],
      "metadata": {
        "colab": {
          "base_uri": "https://localhost:8080/"
        },
        "id": "Mu_lDCD0Y97x",
        "outputId": "554b558c-5bd2-4d1b-efeb-221cd724406c"
      },
      "execution_count": null,
      "outputs": [
        {
          "output_type": "stream",
          "name": "stdout",
          "text": [
            "[[0.55 0.   0.   0.31 0.   0.   0.   0.   0.13 0.  ]\n",
            " [0.7  0.   0.   0.   0.3  0.   0.   0.   0.   0.  ]\n",
            " [0.65 0.   0.   0.   0.   0.35 0.   0.   0.   0.  ]\n",
            " [0.   0.   0.   0.65 0.   0.   0.   0.3  0.06 0.  ]\n",
            " [0.   0.28 0.   0.   0.72 0.   0.   0.   0.   0.  ]\n",
            " [0.   0.   0.   0.   0.   0.71 0.29 0.   0.   0.  ]\n",
            " [0.   0.   0.   0.   0.   1.   0.   0.   0.   0.  ]\n",
            " [0.   0.   0.   0.   0.   1.   0.   0.   0.   0.  ]\n",
            " [0.   0.   0.   0.   0.   0.   0.   0.   1.   0.  ]\n",
            " [0.23 0.   0.   0.   0.   0.   0.   0.15 0.   0.61]]\n"
          ]
        }
      ]
    },
    {
      "cell_type": "markdown",
      "source": [
        "Now that we have coded the matrices that approximate the attention scores according to the new formula, we compute the distance with the original matrix arising from the attention experiments. We recall that according to our definition\n",
        "\n",
        "$$  \n",
        "|H-X|:= \\sum_{i,j} |h_{i,j} -x_{i,j} | \\quad h_{i,j}\\in H, \\quad x_{i,j}\\in X.\n",
        "$$\n",
        "It is worthy to denote that there are many hyperparameters that may be learned: $w$ the bandwidth, the dropout probability $p$, the coefficient multiplying the sparse matrix, which in our case is set to be $0.5$, the parameter num_position and the various coefficients when dealing with random generation. These parameters can have an impact on the overall performance and to obtain them several experiments must be carried out. Nevertheless, we presume that many of them may dependend on the language we are using, as it may be the case for the bandwidth $w$, clearly an unpredictable random component is also inevitable."
      ],
      "metadata": {
        "id": "KCaIKgItCFMI"
      }
    },
    {
      "cell_type": "code",
      "source": [
        "np.set_printoptions(precision=2)"
      ],
      "metadata": {
        "id": "MKyh4mX1njpV"
      },
      "execution_count": null,
      "outputs": []
    },
    {
      "cell_type": "code",
      "source": [
        "def computedistance(A,num_pos=2,w=3,n_attempts=10):\n",
        "    best_distance = float('inf')\n",
        "    best_matrix = None\n",
        "\n",
        "    # First group\n",
        "    for _ in range(n_attempts):\n",
        "        sigma_1 = creatediagonal(len(A))\n",
        "        distance = np.sum(np.abs(A - sigma_1))\n",
        "        if distance < best_distance:\n",
        "            best_distance = distance\n",
        "            best_matrix = sigma_1\n",
        "\n",
        "    # Second group\n",
        "    for _ in range(n_attempts):\n",
        "        sigma_2 = createsintact(len(A), w)  # We fix w=3\n",
        "        distance = np.sum(np.abs(A - sigma_2))\n",
        "        if distance < best_distance:\n",
        "            best_distance = distance\n",
        "            best_matrix = sigma_2\n",
        "\n",
        "    # Third group\n",
        "    for _ in range(n_attempts):\n",
        "        sigma_3 = raretoken(len(A), num_pos, w)  # These parameters can be changed: 2 rare token and window 3\n",
        "        distance = np.sum(np.abs(A - sigma_3))\n",
        "        if distance < best_distance:\n",
        "            best_distance = distance\n",
        "            best_matrix = sigma_3\n",
        "\n",
        "    return best_matrix, best_distance\n",
        "\n",
        "# Example\n",
        "A = np.eye(10)  # Matrice di esempio\n",
        "best_matrix, best_distance = computedistance(A)\n",
        "print(\"Best matrix:\")\n",
        "print(best_matrix)\n",
        "print(\"\\n Minimum Distance:\", best_distance)\n"
      ],
      "metadata": {
        "colab": {
          "base_uri": "https://localhost:8080/"
        },
        "id": "CwPL-gL2DjVP",
        "outputId": "99c7e05f-bd14-48e9-fe6b-b60c2bb6869e"
      },
      "execution_count": null,
      "outputs": [
        {
          "output_type": "stream",
          "name": "stdout",
          "text": [
            "Matrice migliore:\n",
            "[[1.   0.   0.   0.   0.   0.   0.   0.   0.   0.  ]\n",
            " [0.   0.95 0.   0.   0.   0.05 0.   0.   0.   0.  ]\n",
            " [0.   0.   0.97 0.   0.   0.   0.   0.03 0.   0.  ]\n",
            " [0.   0.   0.   1.   0.   0.   0.   0.   0.   0.  ]\n",
            " [0.   0.   0.   0.   1.   0.   0.   0.   0.   0.  ]\n",
            " [0.   0.   0.   0.   0.   0.83 0.06 0.   0.11 0.  ]\n",
            " [0.   0.21 0.   0.   0.   0.   0.79 0.   0.   0.  ]\n",
            " [0.   0.13 0.2  0.   0.   0.   0.   0.68 0.   0.  ]\n",
            " [0.   0.   0.   0.15 0.   0.   0.   0.   0.85 0.  ]\n",
            " [0.   0.02 0.   0.   0.   0.   0.   0.28 0.   0.7 ]]\n",
            "\n",
            " Distanza minima: 2.443403098209869\n"
          ]
        }
      ]
    },
    {
      "cell_type": "code",
      "source": [
        "from google.colab import drive\n",
        "drive.mount('/content/drive')"
      ],
      "metadata": {
        "id": "pkXhqxDbajrJ",
        "colab": {
          "base_uri": "https://localhost:8080/"
        },
        "outputId": "94dd313c-d781-4cb3-fa79-90517f3d673f"
      },
      "execution_count": null,
      "outputs": [
        {
          "output_type": "stream",
          "name": "stdout",
          "text": [
            "Mounted at /content/drive\n"
          ]
        }
      ]
    },
    {
      "cell_type": "code",
      "source": [
        "with open('/content/drive/MyDrive/Transformer/matrix_list.pkl', 'rb') as f:\n",
        "    loaded_matrix_list = pickle.load(f)"
      ],
      "metadata": {
        "id": "DGewFBrvnaCb"
      },
      "execution_count": null,
      "outputs": []
    },
    {
      "cell_type": "code",
      "source": [
        "for i in range(len(loaded_matrix_list)):\n",
        "  loaded_matrix_list[i]=loaded_matrix_list[i][:16,:16] # we cut all the paddings and take the length of the sentence"
      ],
      "metadata": {
        "id": "pTkERVCTn_pK"
      },
      "execution_count": null,
      "outputs": []
    },
    {
      "cell_type": "code",
      "source": [
        "for i, matrix in enumerate(loaded_matrix_list):\n",
        "    best_matrix, best_distance = computedistance(matrix,num_pos=2,w=4,n_attempts=50)\n",
        "    print(\"\\nDistanza minima:\", best_distance)"
      ],
      "metadata": {
        "colab": {
          "base_uri": "https://localhost:8080/"
        },
        "id": "6xnAzkb7pPZV",
        "outputId": "a5dfd147-49fb-4eb9-8b0f-36fb88546c85"
      },
      "execution_count": null,
      "outputs": [
        {
          "output_type": "stream",
          "name": "stderr",
          "text": [
            "<ipython-input-3-00087372232b>:38: RuntimeWarning: invalid value encountered in divide\n",
            "  sigma_2 = sigma_2 / row_sums[:, np.newaxis]\n"
          ]
        },
        {
          "output_type": "stream",
          "name": "stdout",
          "text": [
            "\n",
            "Distanza minima: 21.069530669032968\n",
            "\n",
            "Distanza minima: 19.233454623228344\n",
            "\n",
            "Distanza minima: 22.352018368252036\n",
            "\n",
            "Distanza minima: 22.468749502906167\n",
            "\n",
            "Distanza minima: 20.48712989798162\n",
            "\n",
            "Distanza minima: 20.871859012299915\n",
            "\n",
            "Distanza minima: 20.61355644223331\n",
            "\n",
            "Distanza minima: 21.525276899413527\n"
          ]
        }
      ]
    }
  ]
}